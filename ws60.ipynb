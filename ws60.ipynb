{
 "cells": [
  {
   "cell_type": "code",
   "execution_count": 3,
   "metadata": {},
   "outputs": [],
   "source": [
    "from gazpacho import get, Soup"
   ]
  },
  {
   "cell_type": "code",
   "execution_count": 9,
   "metadata": {},
   "outputs": [],
   "source": [
    "url = 'https://www.hockey-reference.com/friv/playoff_prob.fcgi'\n",
    "html = get(url)"
   ]
  },
  {
   "cell_type": "code",
   "execution_count": 11,
   "metadata": {},
   "outputs": [
    {
     "data": {
      "text/plain": [
       "<tr>\n",
       "         <th aria-label=\"Rank\" data-stat=\"ranker\" scope=\"col\" class=\"ranker poptip sort_default_asc show_partial_when_sorting center\" data-tip=\"Rank\">Rk</th>\n",
       "         <th aria-label=\"Team\" data-stat=\"team_name\" scope=\"col\" class=\" poptip left\">Team</th>\n",
       "         <th aria-label=\"Average wins in simulated seasons\" data-stat=\"wins_avg\" scope=\"col\" class=\" poptip center\" data-tip=\"Average wins in simulated seasons\">W</th>\n",
       "         <th aria-label=\"Average losses in simulated seasons\" data-stat=\"losses_avg\" scope=\"col\" class=\" poptip center\" data-tip=\"Average losses in simulated seasons\">L</th>\n",
       "         <th aria-label=\"Average overtime/shootout losses in simulated seasons\" data-stat=\"losses_ot_avg\" scope=\"col\" class=\" poptip center\" data-tip=\"Average overtime/shootout losses in simulated seasons\">OL</th>\n",
       "         <th aria-label=\"Average points in simulated seasons\" data-stat=\"points_avg\" scope=\"col\" class=\" poptip center\" data-tip=\"Average points in simulated seasons\">PTS</th>\n",
       "         <th aria-label=\"Points at current point in season\" data-stat=\"points_current\" scope=\"col\" class=\" poptip center\" data-tip=\"Points at current point in season\">Current</th>\n",
       "         <th aria-label=\"Projected points the remainder of the season\" data-stat=\"points_remain\" scope=\"col\" class=\" poptip center\" data-tip=\"Projected points the remainder of the season\">Remain</th>\n",
       "         <th aria-label=\"Points in best simulated season\" data-stat=\"points_best\" scope=\"col\" class=\" poptip center\" data-tip=\"Points in best simulated season\">Best</th>\n",
       "         <th aria-label=\"Points in worst simulated season\" data-stat=\"points_worst\" scope=\"col\" class=\" poptip center\" data-tip=\"Points in worst simulated season\">Worst</th>\n",
       "         <th aria-label=\"Simple Rating System; a team rating that takes into account average goal differential and strength of schedule. The rating is denominated in goals above/below average, where zero is average.\" data-stat=\"srs\" scope=\"col\" class=\" poptip center\" data-tip=\"Simple Rating System; a team rating that takes into account average goal differential and strength of schedule. The rating is denominated in goals above/below average, where zero is average.\">SRS</th>\n",
       "         <th aria-label=\"Strength of Schedule; a rating of strength of schedule. The rating is denominated in goals above/below average, where zero is average.\" data-stat=\"sos\" scope=\"col\" class=\" poptip center\" data-tip=\"Strength of Schedule; a rating of strength of schedule. The rating is denominated in goals above/below average, where zero is average.\">SOS</th>\n",
       "         <th aria-label=\"Probability the team makes the playoffs\" data-stat=\"prob_playoffs\" scope=\"col\" class=\" poptip center\" data-tip=\"Probability the team makes the playoffs\">Playoffs</th>\n",
       "         <th aria-label=\"Probability the team wins a wild card spot\" data-stat=\"prob_wildcard\" scope=\"col\" class=\" poptip center\" data-tip=\"Probability the team wins a wild card spot\">Wild Card</th>\n",
       "         <th aria-label=\"Probability the team wins their division\" data-stat=\"prob_win_div\" scope=\"col\" class=\" poptip center\" data-tip=\"Probability the team wins their division\">Division</th>\n",
       "         <th aria-label=\"Probability the team is the top seed in their conference\" data-stat=\"prob_top_seed\" scope=\"col\" class=\" poptip center\" data-tip=\"Probability the team is the top seed in their conference\">Top Seed</th>\n",
       "         <th aria-label=\"Probability the team wins the conference playoffs\" data-stat=\"prob_win_conf\" scope=\"col\" class=\" poptip center\" data-tip=\"Probability the team wins the conference playoffs\">Win Conf</th>\n",
       "         <th aria-label=\"Probability the team wins the Stanley Cup\" data-stat=\"prob_win_cup\" scope=\"col\" class=\" poptip center\" data-tip=\"Probability the team wins the Stanley Cup\">Win Cup</th>\n",
       "      </tr>"
      ]
     },
     "execution_count": 11,
     "metadata": {},
     "output_type": "execute_result"
    }
   ],
   "source": [
    "soup = Soup(html)\n",
    "soup.find('tr')[0]"
   ]
  }
 ],
 "metadata": {
  "kernelspec": {
   "display_name": "Python 3",
   "language": "python",
   "name": "python3"
  },
  "language_info": {
   "codemirror_mode": {
    "name": "ipython",
    "version": 3
   },
   "file_extension": ".py",
   "mimetype": "text/x-python",
   "name": "python",
   "nbconvert_exporter": "python",
   "pygments_lexer": "ipython3",
   "version": "3.7.3"
  }
 },
 "nbformat": 4,
 "nbformat_minor": 2
}
