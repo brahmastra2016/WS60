{
 "cells": [
  {
   "cell_type": "code",
   "execution_count": 1,
   "metadata": {},
   "outputs": [],
   "source": [
    "from gazpacho import get, Soup"
   ]
  },
  {
   "cell_type": "code",
   "execution_count": 2,
   "metadata": {},
   "outputs": [],
   "source": [
    "url = 'https://www.goodreads.com/review/list/16626766'"
   ]
  },
  {
   "cell_type": "code",
   "execution_count": 3,
   "metadata": {},
   "outputs": [],
   "source": [
    "params = {\n",
    "    'shelf': 'read',\n",
    "    'order': 'd',\n",
    "    'sort': 'date_read',\n",
    "    'per_page': 30, # actually can't change\n",
    "    'page': 1\n",
    "}\n",
    "\n",
    "html = get(url, params)"
   ]
  },
  {
   "cell_type": "code",
   "execution_count": 4,
   "metadata": {},
   "outputs": [],
   "source": [
    "soup = Soup(html)"
   ]
  },
  {
   "cell_type": "code",
   "execution_count": 5,
   "metadata": {},
   "outputs": [
    {
     "data": {
      "text/plain": [
       "10"
      ]
     },
     "execution_count": 5,
     "metadata": {},
     "output_type": "execute_result"
    }
   ],
   "source": [
    "trs = soup.find('tr', {'class': 'bookalike review'})\n",
    "len(trs)"
   ]
  },
  {
   "cell_type": "code",
   "execution_count": 6,
   "metadata": {},
   "outputs": [],
   "source": [
    "tr = trs[0]"
   ]
  },
  {
   "cell_type": "code",
   "execution_count": 7,
   "metadata": {},
   "outputs": [
    {
     "data": {
      "text/plain": [
       "'This Is How You Lose the Time War'"
      ]
     },
     "execution_count": 7,
     "metadata": {},
     "output_type": "execute_result"
    }
   ],
   "source": [
    "tr.find('a', {'href': '/book/show/'})[1].attrs['title']"
   ]
  },
  {
   "cell_type": "code",
   "execution_count": 8,
   "metadata": {},
   "outputs": [
    {
     "data": {
      "text/plain": [
       "'El-Mohtar, Amal'"
      ]
     },
     "execution_count": 8,
     "metadata": {},
     "output_type": "execute_result"
    }
   ],
   "source": [
    "tr.find('a', {'href': '/author/show'}).text"
   ]
  },
  {
   "cell_type": "code",
   "execution_count": 9,
   "metadata": {},
   "outputs": [
    {
     "data": {
      "text/plain": [
       "'Dec 2019'"
      ]
     },
     "execution_count": 9,
     "metadata": {},
     "output_type": "execute_result"
    }
   ],
   "source": [
    "tr.find('span', {'class': 'date_started_value'}).text"
   ]
  },
  {
   "cell_type": "code",
   "execution_count": 10,
   "metadata": {},
   "outputs": [
    {
     "data": {
      "text/plain": [
       "'Dec 29, 2019'"
      ]
     },
     "execution_count": 10,
     "metadata": {},
     "output_type": "execute_result"
    }
   ],
   "source": [
    "tr.find('span', {'class': 'date_read_value'}).text"
   ]
  },
  {
   "cell_type": "code",
   "execution_count": 11,
   "metadata": {},
   "outputs": [
    {
     "data": {
      "text/plain": [
       "'208 pp'"
      ]
     },
     "execution_count": 11,
     "metadata": {},
     "output_type": "execute_result"
    }
   ],
   "source": [
    "tr.find('nobr').remove_tags()"
   ]
  },
  {
   "cell_type": "code",
   "execution_count": 12,
   "metadata": {},
   "outputs": [],
   "source": [
    "def parse_tr(tr):\n",
    "    return {\n",
    "        'title': tr.find('a', {'href': '/book/show/'})[1].attrs['title'],\n",
    "        'author': tr.find('a', {'href': '/author/show'}).text,\n",
    "        'end': tr.find('span', {'class': 'date_read_value'}).text,\n",
    "    }"
   ]
  },
  {
   "cell_type": "code",
   "execution_count": 13,
   "metadata": {},
   "outputs": [],
   "source": [
    "books = [parse_tr(tr) for tr in trs]"
   ]
  },
  {
   "cell_type": "code",
   "execution_count": 14,
   "metadata": {},
   "outputs": [
    {
     "data": {
      "text/plain": [
       "[{'title': 'This Is How You Lose the Time War',\n",
       "  'author': 'El-Mohtar, Amal',\n",
       "  'end': 'Dec 29, 2019'},\n",
       " {'title': 'White', 'author': 'Ellis, Bret Easton', 'end': 'Dec 27, 2019'},\n",
       " {'title': 'To Be Taught, If Fortunate',\n",
       "  'author': 'Chambers, Becky',\n",
       "  'end': 'Dec 24, 2019'}]"
      ]
     },
     "execution_count": 14,
     "metadata": {},
     "output_type": "execute_result"
    }
   ],
   "source": [
    "books[:3]"
   ]
  },
  {
   "cell_type": "code",
   "execution_count": 15,
   "metadata": {},
   "outputs": [],
   "source": [
    "def scrape_page(user=16626766, page=1):\n",
    "    url = f'https://www.goodreads.com/review/list/{user}'\n",
    "    params = {\n",
    "        'shelf': 'read',\n",
    "        'order': 'd',\n",
    "        'sort': 'date_read',\n",
    "        'page': page\n",
    "    }\n",
    "    html = get(url, params)\n",
    "    \n",
    "#     # \"a honking good idea\"\n",
    "#     with open(f'data/{user}-{page}.html', 'w') as f:\n",
    "#         f.write(html)\n",
    "        \n",
    "    soup = Soup(html)\n",
    "    trs = soup.find('tr', {'class': 'bookalike review'})\n",
    "    books = [parse_tr(tr) for tr in trs]\n",
    "    return books"
   ]
  },
  {
   "cell_type": "code",
   "execution_count": 16,
   "metadata": {},
   "outputs": [],
   "source": [
    "books = []\n",
    "for page in [1, 2]:\n",
    "    books.extend(scrape_page(page=page))"
   ]
  },
  {
   "cell_type": "code",
   "execution_count": 17,
   "metadata": {},
   "outputs": [],
   "source": [
    "from tqdm import tqdm\n",
    "import time"
   ]
  },
  {
   "cell_type": "code",
   "execution_count": 27,
   "metadata": {},
   "outputs": [
    {
     "name": "stderr",
     "output_type": "stream",
     "text": [
      "\r",
      "  0%|          | 0/11 [00:00<?, ?it/s]"
     ]
    },
    {
     "name": "stdout",
     "output_type": "stream",
     "text": [
      "11\n"
     ]
    },
    {
     "name": "stderr",
     "output_type": "stream",
     "text": [
      "100%|██████████| 11/11 [00:38<00:00,  3.47s/it]\n"
     ]
    }
   ],
   "source": [
    "books = []\n",
    "pages = 2 * 52 // 10 + 1\n",
    "print(pages)\n",
    "for page in tqdm(range(1, pages+1)):\n",
    "    books.extend(scrape_page(page=page))\n",
    "    time.sleep(1)"
   ]
  },
  {
   "cell_type": "code",
   "execution_count": 37,
   "metadata": {},
   "outputs": [],
   "source": [
    "import pandas as pd"
   ]
  },
  {
   "cell_type": "code",
   "execution_count": 38,
   "metadata": {},
   "outputs": [],
   "source": [
    "df = pd.DataFrame(books)\n",
    "\n",
    "df.to_csv('data/books.csv', index=False)"
   ]
  },
  {
   "cell_type": "code",
   "execution_count": 39,
   "metadata": {},
   "outputs": [],
   "source": [
    "df['end'] = pd.to_datetime(df['end'])\n",
    "df = df.sort_values('end', ascending=True)\n",
    "df['year'] = df['end'].dt.year\n",
    "df = df[df['year'] != 2017]\n",
    "df['week'] = df['end'].dt.dayofyear // 7 + 1\n",
    "df['read'] = 1\n",
    "\n",
    "stats = df.groupby(['year', 'week'])['read'].count().groupby(['year']).cumsum()\n",
    "df = stats.reset_index()"
   ]
  },
  {
   "cell_type": "code",
   "execution_count": 40,
   "metadata": {},
   "outputs": [],
   "source": [
    "import altair as alt"
   ]
  },
  {
   "cell_type": "code",
   "execution_count": 41,
   "metadata": {},
   "outputs": [
    {
     "data": {
      "text/html": [
       "\n",
       "<div id=\"altair-viz-4\"></div>\n",
       "<script type=\"text/javascript\">\n",
       "  (function(spec, embedOpt){\n",
       "    const outputDiv = document.getElementById(\"altair-viz-4\");\n",
       "    const paths = {\n",
       "      \"vega\": \"https://cdn.jsdelivr.net/npm//vega@5?noext\",\n",
       "      \"vega-lib\": \"https://cdn.jsdelivr.net/npm//vega-lib?noext\",\n",
       "      \"vega-lite\": \"https://cdn.jsdelivr.net/npm//vega-lite@4.0.0?noext\",\n",
       "      \"vega-embed\": \"https://cdn.jsdelivr.net/npm//vega-embed@6?noext\",\n",
       "    };\n",
       "\n",
       "    function loadScript(lib) {\n",
       "      return new Promise(function(resolve, reject) {\n",
       "        var s = document.createElement('script');\n",
       "        s.src = paths[lib];\n",
       "        s.async = true;\n",
       "        s.onload = () => resolve(paths[lib]);\n",
       "        s.onerror = () => reject(`Error loading script: ${paths[lib]}`);\n",
       "        document.getElementsByTagName(\"head\")[0].appendChild(s);\n",
       "      });\n",
       "    }\n",
       "\n",
       "    function showError(err) {\n",
       "      outputDiv.innerHTML = `<div class=\"error\" style=\"color:red;\">${err}</div>`;\n",
       "      throw err;\n",
       "    }\n",
       "\n",
       "    function displayChart(vegaEmbed) {\n",
       "      vegaEmbed(outputDiv, spec, embedOpt)\n",
       "        .catch(err => showError(`Javascript Error: ${err.message}<br>This usually means there's a typo in your chart specification. See the javascript console for the full traceback.`));\n",
       "    }\n",
       "\n",
       "    if(typeof define === \"function\" && define.amd) {\n",
       "      requirejs.config({paths});\n",
       "      require([\"vega-embed\"], displayChart, err => showError(`Error loading script: ${err.message}`));\n",
       "    } else if (typeof vegaEmbed === \"function\") {\n",
       "      displayChart(vegaEmbed);\n",
       "    } else {\n",
       "      loadScript(\"vega\")\n",
       "        .then(() => loadScript(\"vega-lite\"))\n",
       "        .then(() => loadScript(\"vega-embed\"))\n",
       "        .catch(showError)\n",
       "        .then(() => displayChart(vegaEmbed));\n",
       "    }\n",
       "  })({\"config\": {\"view\": {\"continuousWidth\": 400, \"continuousHeight\": 300}}, \"data\": {\"name\": \"data-8fce0913a227d1487c2d1d8b8b884113\"}, \"mark\": {\"type\": \"line\", \"interpolate\": \"basis\"}, \"encoding\": {\"color\": {\"type\": \"ordinal\", \"field\": \"year\"}, \"x\": {\"type\": \"quantitative\", \"field\": \"week\"}, \"y\": {\"type\": \"quantitative\", \"field\": \"read\"}}, \"height\": 300, \"title\": \"goodreads Challenge\", \"width\": 300, \"$schema\": \"https://vega.github.io/schema/vega-lite/v4.0.0.json\", \"datasets\": {\"data-8fce0913a227d1487c2d1d8b8b884113\": [{\"year\": 2018, \"week\": 1, \"read\": 1}, {\"year\": 2018, \"week\": 2, \"read\": 3}, {\"year\": 2018, \"week\": 3, \"read\": 4}, {\"year\": 2018, \"week\": 6, \"read\": 7}, {\"year\": 2018, \"week\": 8, \"read\": 8}, {\"year\": 2018, \"week\": 9, \"read\": 9}, {\"year\": 2018, \"week\": 10, \"read\": 10}, {\"year\": 2018, \"week\": 14, \"read\": 11}, {\"year\": 2018, \"week\": 18, \"read\": 12}, {\"year\": 2018, \"week\": 19, \"read\": 14}, {\"year\": 2018, \"week\": 21, \"read\": 16}, {\"year\": 2018, \"week\": 23, \"read\": 19}, {\"year\": 2018, \"week\": 25, \"read\": 21}, {\"year\": 2018, \"week\": 26, \"read\": 22}, {\"year\": 2018, \"week\": 27, \"read\": 24}, {\"year\": 2018, \"week\": 28, \"read\": 25}, {\"year\": 2018, \"week\": 29, \"read\": 30}, {\"year\": 2018, \"week\": 30, \"read\": 31}, {\"year\": 2018, \"week\": 31, \"read\": 33}, {\"year\": 2018, \"week\": 33, \"read\": 35}, {\"year\": 2018, \"week\": 35, \"read\": 36}, {\"year\": 2018, \"week\": 36, \"read\": 37}, {\"year\": 2018, \"week\": 39, \"read\": 38}, {\"year\": 2018, \"week\": 41, \"read\": 40}, {\"year\": 2018, \"week\": 42, \"read\": 42}, {\"year\": 2018, \"week\": 43, \"read\": 44}, {\"year\": 2018, \"week\": 44, \"read\": 45}, {\"year\": 2018, \"week\": 45, \"read\": 46}, {\"year\": 2018, \"week\": 46, \"read\": 47}, {\"year\": 2018, \"week\": 47, \"read\": 48}, {\"year\": 2018, \"week\": 51, \"read\": 51}, {\"year\": 2018, \"week\": 52, \"read\": 52}, {\"year\": 2019, \"week\": 1, \"read\": 3}, {\"year\": 2019, \"week\": 2, \"read\": 4}, {\"year\": 2019, \"week\": 6, \"read\": 5}, {\"year\": 2019, \"week\": 8, \"read\": 6}, {\"year\": 2019, \"week\": 11, \"read\": 7}, {\"year\": 2019, \"week\": 13, \"read\": 8}, {\"year\": 2019, \"week\": 14, \"read\": 9}, {\"year\": 2019, \"week\": 15, \"read\": 10}, {\"year\": 2019, \"week\": 16, \"read\": 11}, {\"year\": 2019, \"week\": 17, \"read\": 12}, {\"year\": 2019, \"week\": 18, \"read\": 13}, {\"year\": 2019, \"week\": 19, \"read\": 16}, {\"year\": 2019, \"week\": 20, \"read\": 18}, {\"year\": 2019, \"week\": 21, \"read\": 19}, {\"year\": 2019, \"week\": 24, \"read\": 20}, {\"year\": 2019, \"week\": 25, \"read\": 21}, {\"year\": 2019, \"week\": 26, \"read\": 23}, {\"year\": 2019, \"week\": 27, \"read\": 24}, {\"year\": 2019, \"week\": 28, \"read\": 27}, {\"year\": 2019, \"week\": 30, \"read\": 29}, {\"year\": 2019, \"week\": 32, \"read\": 31}, {\"year\": 2019, \"week\": 34, \"read\": 32}, {\"year\": 2019, \"week\": 37, \"read\": 33}, {\"year\": 2019, \"week\": 38, \"read\": 34}, {\"year\": 2019, \"week\": 40, \"read\": 35}, {\"year\": 2019, \"week\": 42, \"read\": 37}, {\"year\": 2019, \"week\": 43, \"read\": 38}, {\"year\": 2019, \"week\": 44, \"read\": 40}, {\"year\": 2019, \"week\": 45, \"read\": 41}, {\"year\": 2019, \"week\": 48, \"read\": 44}, {\"year\": 2019, \"week\": 49, \"read\": 46}, {\"year\": 2019, \"week\": 50, \"read\": 47}, {\"year\": 2019, \"week\": 51, \"read\": 49}, {\"year\": 2019, \"week\": 52, \"read\": 52}]}}, {\"mode\": \"vega-lite\"});\n",
       "</script>"
      ],
      "text/plain": [
       "alt.Chart(...)"
      ]
     },
     "execution_count": 41,
     "metadata": {},
     "output_type": "execute_result"
    }
   ],
   "source": [
    "chart = (\n",
    "    alt.Chart(df)\n",
    "    .mark_line(interpolate='basis')\n",
    "    .encode(\n",
    "        x='week',\n",
    "        y='read',\n",
    "        color='year:O')\n",
    "    .properties(\n",
    "        height=300, \n",
    "        width=300,\n",
    "        title='goodreads Challenge'\n",
    "    )\n",
    ")\n",
    "\n",
    "chart"
   ]
  },
  {
   "cell_type": "code",
   "execution_count": 42,
   "metadata": {},
   "outputs": [
    {
     "data": {
      "text/html": [
       "\n",
       "<div id=\"altair-viz-5\"></div>\n",
       "<script type=\"text/javascript\">\n",
       "  (function(spec, embedOpt){\n",
       "    const outputDiv = document.getElementById(\"altair-viz-5\");\n",
       "    const paths = {\n",
       "      \"vega\": \"https://cdn.jsdelivr.net/npm//vega@5?noext\",\n",
       "      \"vega-lib\": \"https://cdn.jsdelivr.net/npm//vega-lib?noext\",\n",
       "      \"vega-lite\": \"https://cdn.jsdelivr.net/npm//vega-lite@4.0.0?noext\",\n",
       "      \"vega-embed\": \"https://cdn.jsdelivr.net/npm//vega-embed@6?noext\",\n",
       "    };\n",
       "\n",
       "    function loadScript(lib) {\n",
       "      return new Promise(function(resolve, reject) {\n",
       "        var s = document.createElement('script');\n",
       "        s.src = paths[lib];\n",
       "        s.async = true;\n",
       "        s.onload = () => resolve(paths[lib]);\n",
       "        s.onerror = () => reject(`Error loading script: ${paths[lib]}`);\n",
       "        document.getElementsByTagName(\"head\")[0].appendChild(s);\n",
       "      });\n",
       "    }\n",
       "\n",
       "    function showError(err) {\n",
       "      outputDiv.innerHTML = `<div class=\"error\" style=\"color:red;\">${err}</div>`;\n",
       "      throw err;\n",
       "    }\n",
       "\n",
       "    function displayChart(vegaEmbed) {\n",
       "      vegaEmbed(outputDiv, spec, embedOpt)\n",
       "        .catch(err => showError(`Javascript Error: ${err.message}<br>This usually means there's a typo in your chart specification. See the javascript console for the full traceback.`));\n",
       "    }\n",
       "\n",
       "    if(typeof define === \"function\" && define.amd) {\n",
       "      requirejs.config({paths});\n",
       "      require([\"vega-embed\"], displayChart, err => showError(`Error loading script: ${err.message}`));\n",
       "    } else if (typeof vegaEmbed === \"function\") {\n",
       "      displayChart(vegaEmbed);\n",
       "    } else {\n",
       "      loadScript(\"vega\")\n",
       "        .then(() => loadScript(\"vega-lite\"))\n",
       "        .then(() => loadScript(\"vega-embed\"))\n",
       "        .catch(showError)\n",
       "        .then(() => displayChart(vegaEmbed));\n",
       "    }\n",
       "  })({\"config\": {\"view\": {\"continuousWidth\": 400, \"continuousHeight\": 300}}, \"layer\": [{\"mark\": {\"type\": \"line\", \"interpolate\": \"basis\"}, \"encoding\": {\"color\": {\"type\": \"ordinal\", \"field\": \"year\"}, \"x\": {\"type\": \"quantitative\", \"field\": \"week\"}, \"y\": {\"type\": \"quantitative\", \"field\": \"read\"}}}, {\"mark\": \"point\", \"encoding\": {\"opacity\": {\"value\": 0}, \"x\": {\"type\": \"quantitative\", \"field\": \"week\"}}, \"selection\": {\"selector001\": {\"type\": \"single\", \"nearest\": true, \"on\": \"mouseover\", \"fields\": [\"week\"], \"empty\": \"none\"}}}, {\"mark\": \"point\", \"encoding\": {\"color\": {\"type\": \"ordinal\", \"field\": \"year\"}, \"opacity\": {\"condition\": {\"value\": 1, \"selection\": \"selector001\"}, \"value\": 0}, \"x\": {\"type\": \"quantitative\", \"field\": \"week\"}, \"y\": {\"type\": \"quantitative\", \"field\": \"read\"}}}, {\"mark\": {\"type\": \"rule\", \"color\": \"red\"}, \"encoding\": {\"x\": {\"type\": \"quantitative\", \"field\": \"week\"}}, \"transform\": [{\"filter\": {\"selection\": \"selector001\"}}]}, {\"mark\": {\"type\": \"text\", \"align\": \"left\", \"dx\": 5, \"dy\": -5}, \"encoding\": {\"color\": {\"type\": \"ordinal\", \"field\": \"year\"}, \"text\": {\"condition\": {\"type\": \"quantitative\", \"field\": \"read\", \"selection\": \"selector001\"}, \"value\": \" \"}, \"x\": {\"type\": \"quantitative\", \"field\": \"week\"}, \"y\": {\"type\": \"quantitative\", \"field\": \"read\"}}}], \"background\": \"white\", \"data\": {\"name\": \"data-8fce0913a227d1487c2d1d8b8b884113\"}, \"height\": 300, \"title\": \"goodreads Challenge\", \"width\": 500, \"$schema\": \"https://vega.github.io/schema/vega-lite/v4.0.0.json\", \"datasets\": {\"data-8fce0913a227d1487c2d1d8b8b884113\": [{\"year\": 2018, \"week\": 1, \"read\": 1}, {\"year\": 2018, \"week\": 2, \"read\": 3}, {\"year\": 2018, \"week\": 3, \"read\": 4}, {\"year\": 2018, \"week\": 6, \"read\": 7}, {\"year\": 2018, \"week\": 8, \"read\": 8}, {\"year\": 2018, \"week\": 9, \"read\": 9}, {\"year\": 2018, \"week\": 10, \"read\": 10}, {\"year\": 2018, \"week\": 14, \"read\": 11}, {\"year\": 2018, \"week\": 18, \"read\": 12}, {\"year\": 2018, \"week\": 19, \"read\": 14}, {\"year\": 2018, \"week\": 21, \"read\": 16}, {\"year\": 2018, \"week\": 23, \"read\": 19}, {\"year\": 2018, \"week\": 25, \"read\": 21}, {\"year\": 2018, \"week\": 26, \"read\": 22}, {\"year\": 2018, \"week\": 27, \"read\": 24}, {\"year\": 2018, \"week\": 28, \"read\": 25}, {\"year\": 2018, \"week\": 29, \"read\": 30}, {\"year\": 2018, \"week\": 30, \"read\": 31}, {\"year\": 2018, \"week\": 31, \"read\": 33}, {\"year\": 2018, \"week\": 33, \"read\": 35}, {\"year\": 2018, \"week\": 35, \"read\": 36}, {\"year\": 2018, \"week\": 36, \"read\": 37}, {\"year\": 2018, \"week\": 39, \"read\": 38}, {\"year\": 2018, \"week\": 41, \"read\": 40}, {\"year\": 2018, \"week\": 42, \"read\": 42}, {\"year\": 2018, \"week\": 43, \"read\": 44}, {\"year\": 2018, \"week\": 44, \"read\": 45}, {\"year\": 2018, \"week\": 45, \"read\": 46}, {\"year\": 2018, \"week\": 46, \"read\": 47}, {\"year\": 2018, \"week\": 47, \"read\": 48}, {\"year\": 2018, \"week\": 51, \"read\": 51}, {\"year\": 2018, \"week\": 52, \"read\": 52}, {\"year\": 2019, \"week\": 1, \"read\": 3}, {\"year\": 2019, \"week\": 2, \"read\": 4}, {\"year\": 2019, \"week\": 6, \"read\": 5}, {\"year\": 2019, \"week\": 8, \"read\": 6}, {\"year\": 2019, \"week\": 11, \"read\": 7}, {\"year\": 2019, \"week\": 13, \"read\": 8}, {\"year\": 2019, \"week\": 14, \"read\": 9}, {\"year\": 2019, \"week\": 15, \"read\": 10}, {\"year\": 2019, \"week\": 16, \"read\": 11}, {\"year\": 2019, \"week\": 17, \"read\": 12}, {\"year\": 2019, \"week\": 18, \"read\": 13}, {\"year\": 2019, \"week\": 19, \"read\": 16}, {\"year\": 2019, \"week\": 20, \"read\": 18}, {\"year\": 2019, \"week\": 21, \"read\": 19}, {\"year\": 2019, \"week\": 24, \"read\": 20}, {\"year\": 2019, \"week\": 25, \"read\": 21}, {\"year\": 2019, \"week\": 26, \"read\": 23}, {\"year\": 2019, \"week\": 27, \"read\": 24}, {\"year\": 2019, \"week\": 28, \"read\": 27}, {\"year\": 2019, \"week\": 30, \"read\": 29}, {\"year\": 2019, \"week\": 32, \"read\": 31}, {\"year\": 2019, \"week\": 34, \"read\": 32}, {\"year\": 2019, \"week\": 37, \"read\": 33}, {\"year\": 2019, \"week\": 38, \"read\": 34}, {\"year\": 2019, \"week\": 40, \"read\": 35}, {\"year\": 2019, \"week\": 42, \"read\": 37}, {\"year\": 2019, \"week\": 43, \"read\": 38}, {\"year\": 2019, \"week\": 44, \"read\": 40}, {\"year\": 2019, \"week\": 45, \"read\": 41}, {\"year\": 2019, \"week\": 48, \"read\": 44}, {\"year\": 2019, \"week\": 49, \"read\": 46}, {\"year\": 2019, \"week\": 50, \"read\": 47}, {\"year\": 2019, \"week\": 51, \"read\": 49}, {\"year\": 2019, \"week\": 52, \"read\": 52}]}}, {\"mode\": \"vega-lite\"});\n",
       "</script>"
      ],
      "text/plain": [
       "alt.LayerChart(...)"
      ]
     },
     "execution_count": 42,
     "metadata": {},
     "output_type": "execute_result"
    }
   ],
   "source": [
    "from utils import interactive_chart\n",
    "\n",
    "interactive_chart(df)"
   ]
  },
  {
   "cell_type": "markdown",
   "metadata": {},
   "source": [
    "### Exercise \n",
    "\n",
    "Use Wikipedia to scrape the ages for: Andrew Yang, Joe Biden, and Donald Trump (or another 2020 Presidential Candidate!)"
   ]
  },
  {
   "cell_type": "code",
   "execution_count": null,
   "metadata": {},
   "outputs": [],
   "source": [
    "%load solutions/1-code.py"
   ]
  }
 ],
 "metadata": {
  "kernelspec": {
   "display_name": "Python 3",
   "language": "python",
   "name": "python3"
  },
  "language_info": {
   "codemirror_mode": {
    "name": "ipython",
    "version": 3
   },
   "file_extension": ".py",
   "mimetype": "text/x-python",
   "name": "python",
   "nbconvert_exporter": "python",
   "pygments_lexer": "ipython3",
   "version": "3.7.4"
  }
 },
 "nbformat": 4,
 "nbformat_minor": 2
}
