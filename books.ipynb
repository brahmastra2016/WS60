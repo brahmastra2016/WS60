{
 "cells": [
  {
   "cell_type": "code",
   "execution_count": 1,
   "metadata": {},
   "outputs": [],
   "source": [
    "from gazpacho import get, Soup"
   ]
  },
  {
   "cell_type": "code",
   "execution_count": 2,
   "metadata": {},
   "outputs": [],
   "source": [
    "url = 'https://www.goodreads.com/review/list/16626766'"
   ]
  },
  {
   "cell_type": "code",
   "execution_count": 4,
   "metadata": {},
   "outputs": [],
   "source": [
    "params = {\n",
    "    'shelf': 'read',\n",
    "    'order': 'd',\n",
    "    'sort': 'date_read',\n",
    "    'per_page': 30, # actually can't change\n",
    "    'page': 1\n",
    "}\n",
    "\n",
    "html = get(url, params)"
   ]
  },
  {
   "cell_type": "code",
   "execution_count": 5,
   "metadata": {},
   "outputs": [],
   "source": [
    "soup = Soup(html)"
   ]
  },
  {
   "cell_type": "code",
   "execution_count": 9,
   "metadata": {},
   "outputs": [
    {
     "data": {
      "text/plain": [
       "30"
      ]
     },
     "execution_count": 9,
     "metadata": {},
     "output_type": "execute_result"
    }
   ],
   "source": [
    "trs = soup.find('tr', {'class': 'bookalike review'})\n",
    "len(trs)"
   ]
  },
  {
   "cell_type": "code",
   "execution_count": 10,
   "metadata": {},
   "outputs": [],
   "source": [
    "tr = trs[0]"
   ]
  },
  {
   "cell_type": "code",
   "execution_count": 11,
   "metadata": {},
   "outputs": [
    {
     "data": {
      "text/plain": [
       "'The Stupidest Angel: A Heartwarming Tale of Christmas Terror (Pine Cove, #3)'"
      ]
     },
     "execution_count": 11,
     "metadata": {},
     "output_type": "execute_result"
    }
   ],
   "source": [
    "tr.find('a', {'href': '/book/show/'})[1].attrs['title']"
   ]
  },
  {
   "cell_type": "code",
   "execution_count": 12,
   "metadata": {},
   "outputs": [
    {
     "data": {
      "text/plain": [
       "'Moore, Christopher'"
      ]
     },
     "execution_count": 12,
     "metadata": {},
     "output_type": "execute_result"
    }
   ],
   "source": [
    "tr.find('a', {'href': '/author/show'}).text"
   ]
  },
  {
   "cell_type": "code",
   "execution_count": 13,
   "metadata": {},
   "outputs": [
    {
     "data": {
      "text/plain": [
       "'Dec 07, 2019'"
      ]
     },
     "execution_count": 13,
     "metadata": {},
     "output_type": "execute_result"
    }
   ],
   "source": [
    "tr.find('span', {'class': 'date_started_value'}).text"
   ]
  },
  {
   "cell_type": "code",
   "execution_count": 14,
   "metadata": {},
   "outputs": [
    {
     "data": {
      "text/plain": [
       "'Dec 11, 2019'"
      ]
     },
     "execution_count": 14,
     "metadata": {},
     "output_type": "execute_result"
    }
   ],
   "source": [
    "tr.find('span', {'class': 'date_read_value'}).text"
   ]
  },
  {
   "cell_type": "code",
   "execution_count": 15,
   "metadata": {},
   "outputs": [
    {
     "data": {
      "text/plain": [
       "'300 pp'"
      ]
     },
     "execution_count": 15,
     "metadata": {},
     "output_type": "execute_result"
    }
   ],
   "source": [
    "tr.find('nobr').remove_tags()"
   ]
  },
  {
   "cell_type": "code",
   "execution_count": 16,
   "metadata": {},
   "outputs": [],
   "source": [
    "def parse_tr(tr):\n",
    "    return {\n",
    "        'title': tr.find('a', {'href': '/book/show/'})[1].attrs['title'],\n",
    "        'author': tr.find('a', {'href': '/author/show'}).text,\n",
    "        'end': tr.find('span', {'class': 'date_read_value'}).text,\n",
    "    }"
   ]
  },
  {
   "cell_type": "code",
   "execution_count": 17,
   "metadata": {},
   "outputs": [],
   "source": [
    "books = [parse_tr(tr) for tr in trs]"
   ]
  },
  {
   "cell_type": "code",
   "execution_count": 19,
   "metadata": {},
   "outputs": [
    {
     "data": {
      "text/plain": [
       "[{'title': 'The Stupidest Angel: A Heartwarming Tale of Christmas Terror (Pine Cove, #3)',\n",
       "  'author': 'Moore, Christopher',\n",
       "  'end': 'Dec 11, 2019'},\n",
       " {'title': 'The Madness of Crowds: Gender, Race and Identity',\n",
       "  'author': 'Murray, Douglas',\n",
       "  'end': 'Dec 07, 2019'},\n",
       " {'title': 'The Reluctant Fundamentalist',\n",
       "  'author': 'Hamid, Mohsin',\n",
       "  'end': 'Dec 03, 2019'}]"
      ]
     },
     "execution_count": 19,
     "metadata": {},
     "output_type": "execute_result"
    }
   ],
   "source": [
    "books[:3]"
   ]
  },
  {
   "cell_type": "code",
   "execution_count": 20,
   "metadata": {},
   "outputs": [],
   "source": [
    "def scrape_page(user=16626766, page=1):\n",
    "    url = f'https://www.goodreads.com/review/list/{user}'\n",
    "    params = {\n",
    "        'shelf': 'read',\n",
    "        'order': 'd',\n",
    "        'sort': 'date_read',\n",
    "        'page': page\n",
    "    }\n",
    "    html = get(url, params)\n",
    "    soup = Soup(html)\n",
    "    trs = soup.find('tr', {'class': 'bookalike review'})\n",
    "    books = [parse_tr(tr) for tr in trs]\n",
    "    return books"
   ]
  },
  {
   "cell_type": "code",
   "execution_count": 21,
   "metadata": {},
   "outputs": [],
   "source": [
    "books = []\n",
    "for page in [1, 2]:\n",
    "    books.extend(scrape_page(page=page))"
   ]
  },
  {
   "cell_type": "code",
   "execution_count": 23,
   "metadata": {},
   "outputs": [],
   "source": [
    "from tqdm import tqdm\n",
    "import time"
   ]
  },
  {
   "cell_type": "code",
   "execution_count": 24,
   "metadata": {},
   "outputs": [
    {
     "name": "stderr",
     "output_type": "stream",
     "text": [
      "100%|██████████| 9/9 [00:39<00:00,  4.13s/it]\n"
     ]
    }
   ],
   "source": [
    "books = []\n",
    "pages = 5 * 52 // 30 + 1\n",
    "for page in tqdm(range(1, pages+1)):\n",
    "    books.extend(scrape_page(page=page))\n",
    "    time.sleep(1)"
   ]
  },
  {
   "cell_type": "code",
   "execution_count": 25,
   "metadata": {},
   "outputs": [],
   "source": [
    "import pandas as pd"
   ]
  },
  {
   "cell_type": "code",
   "execution_count": 29,
   "metadata": {},
   "outputs": [],
   "source": [
    "df = pd.DataFrame(books)\n",
    "df['end'] = pd.to_datetime(df['end'])\n",
    "df = df.sort_values('end', ascending=True)\n",
    "df['year'] = df['end'].dt.year\n",
    "df['week'] = df['end'].dt.dayofyear // 7 + 1\n",
    "df['read'] = 1\n",
    "\n",
    "stats = df.groupby(['year', 'week'])['read'].count().groupby(['year']).cumsum()\n",
    "df = stats.reset_index()"
   ]
  },
  {
   "cell_type": "code",
   "execution_count": 33,
   "metadata": {},
   "outputs": [
    {
     "data": {
      "text/plain": [
       "RendererRegistry.enable('notebook')"
      ]
     },
     "execution_count": 33,
     "metadata": {},
     "output_type": "execute_result"
    }
   ],
   "source": [
    "import altair as alt\n",
    "alt.renderers.enable('notebook')"
   ]
  },
  {
   "cell_type": "code",
   "execution_count": 36,
   "metadata": {},
   "outputs": [
    {
     "data": {
      "application/javascript": [
       "const spec = {\"config\": {\"view\": {\"width\": 400, \"height\": 300}, \"mark\": {\"tooltip\": null}}, \"data\": {\"name\": \"data-8c550968e0263435b2f31eae167dedfb\"}, \"mark\": {\"type\": \"line\", \"interpolate\": \"basis\"}, \"encoding\": {\"color\": {\"type\": \"ordinal\", \"field\": \"year\"}, \"x\": {\"type\": \"quantitative\", \"field\": \"week\"}, \"y\": {\"type\": \"quantitative\", \"field\": \"read\"}}, \"height\": 300, \"title\": \"goodreads Challenge\", \"width\": 300, \"$schema\": \"https://vega.github.io/schema/vega-lite/v3.4.0.json\", \"datasets\": {\"data-8c550968e0263435b2f31eae167dedfb\": [{\"year\": 2015, \"week\": 1, \"read\": 4}, {\"year\": 2015, \"week\": 2, \"read\": 6}, {\"year\": 2015, \"week\": 4, \"read\": 7}, {\"year\": 2015, \"week\": 5, \"read\": 8}, {\"year\": 2015, \"week\": 11, \"read\": 9}, {\"year\": 2015, \"week\": 12, \"read\": 10}, {\"year\": 2015, \"week\": 13, \"read\": 11}, {\"year\": 2015, \"week\": 14, \"read\": 12}, {\"year\": 2015, \"week\": 15, \"read\": 14}, {\"year\": 2015, \"week\": 16, \"read\": 16}, {\"year\": 2015, \"week\": 17, \"read\": 17}, {\"year\": 2015, \"week\": 18, \"read\": 19}, {\"year\": 2015, \"week\": 19, \"read\": 20}, {\"year\": 2015, \"week\": 20, \"read\": 23}, {\"year\": 2015, \"week\": 21, \"read\": 24}, {\"year\": 2015, \"week\": 22, \"read\": 25}, {\"year\": 2015, \"week\": 23, \"read\": 26}, {\"year\": 2015, \"week\": 26, \"read\": 28}, {\"year\": 2015, \"week\": 27, \"read\": 29}, {\"year\": 2015, \"week\": 30, \"read\": 30}, {\"year\": 2015, \"week\": 32, \"read\": 32}, {\"year\": 2015, \"week\": 34, \"read\": 33}, {\"year\": 2015, \"week\": 36, \"read\": 34}, {\"year\": 2015, \"week\": 37, \"read\": 35}, {\"year\": 2015, \"week\": 38, \"read\": 36}, {\"year\": 2015, \"week\": 40, \"read\": 37}, {\"year\": 2015, \"week\": 41, \"read\": 38}, {\"year\": 2015, \"week\": 42, \"read\": 39}, {\"year\": 2015, \"week\": 43, \"read\": 40}, {\"year\": 2015, \"week\": 45, \"read\": 42}, {\"year\": 2015, \"week\": 46, \"read\": 44}, {\"year\": 2015, \"week\": 47, \"read\": 45}, {\"year\": 2015, \"week\": 48, \"read\": 46}, {\"year\": 2015, \"week\": 49, \"read\": 48}, {\"year\": 2015, \"week\": 50, \"read\": 51}, {\"year\": 2015, \"week\": 51, \"read\": 52}, {\"year\": 2016, \"week\": 1, \"read\": 2}, {\"year\": 2016, \"week\": 2, \"read\": 3}, {\"year\": 2016, \"week\": 3, \"read\": 5}, {\"year\": 2016, \"week\": 4, \"read\": 7}, {\"year\": 2016, \"week\": 5, \"read\": 8}, {\"year\": 2016, \"week\": 6, \"read\": 9}, {\"year\": 2016, \"week\": 8, \"read\": 10}, {\"year\": 2016, \"week\": 12, \"read\": 11}, {\"year\": 2016, \"week\": 19, \"read\": 12}, {\"year\": 2016, \"week\": 20, \"read\": 15}, {\"year\": 2016, \"week\": 21, \"read\": 18}, {\"year\": 2016, \"week\": 22, \"read\": 19}, {\"year\": 2016, \"week\": 24, \"read\": 20}, {\"year\": 2016, \"week\": 25, \"read\": 21}, {\"year\": 2016, \"week\": 27, \"read\": 23}, {\"year\": 2016, \"week\": 28, \"read\": 24}, {\"year\": 2016, \"week\": 29, \"read\": 25}, {\"year\": 2016, \"week\": 30, \"read\": 28}, {\"year\": 2016, \"week\": 31, \"read\": 29}, {\"year\": 2016, \"week\": 32, \"read\": 31}, {\"year\": 2016, \"week\": 33, \"read\": 32}, {\"year\": 2016, \"week\": 34, \"read\": 33}, {\"year\": 2016, \"week\": 35, \"read\": 34}, {\"year\": 2016, \"week\": 36, \"read\": 36}, {\"year\": 2016, \"week\": 37, \"read\": 37}, {\"year\": 2016, \"week\": 38, \"read\": 38}, {\"year\": 2016, \"week\": 39, \"read\": 39}, {\"year\": 2016, \"week\": 40, \"read\": 40}, {\"year\": 2016, \"week\": 41, \"read\": 41}, {\"year\": 2016, \"week\": 42, \"read\": 42}, {\"year\": 2016, \"week\": 44, \"read\": 43}, {\"year\": 2016, \"week\": 47, \"read\": 45}, {\"year\": 2016, \"week\": 48, \"read\": 48}, {\"year\": 2016, \"week\": 49, \"read\": 49}, {\"year\": 2016, \"week\": 50, \"read\": 50}, {\"year\": 2016, \"week\": 52, \"read\": 51}, {\"year\": 2016, \"week\": 53, \"read\": 52}, {\"year\": 2017, \"week\": 3, \"read\": 1}, {\"year\": 2017, \"week\": 4, \"read\": 3}, {\"year\": 2017, \"week\": 5, \"read\": 4}, {\"year\": 2017, \"week\": 6, \"read\": 5}, {\"year\": 2017, \"week\": 8, \"read\": 8}, {\"year\": 2017, \"week\": 9, \"read\": 9}, {\"year\": 2017, \"week\": 10, \"read\": 11}, {\"year\": 2017, \"week\": 12, \"read\": 12}, {\"year\": 2017, \"week\": 13, \"read\": 16}, {\"year\": 2017, \"week\": 15, \"read\": 17}, {\"year\": 2017, \"week\": 16, \"read\": 18}, {\"year\": 2017, \"week\": 20, \"read\": 19}, {\"year\": 2017, \"week\": 21, \"read\": 20}, {\"year\": 2017, \"week\": 22, \"read\": 22}, {\"year\": 2017, \"week\": 24, \"read\": 23}, {\"year\": 2017, \"week\": 25, \"read\": 25}, {\"year\": 2017, \"week\": 28, \"read\": 26}, {\"year\": 2017, \"week\": 29, \"read\": 27}, {\"year\": 2017, \"week\": 30, \"read\": 28}, {\"year\": 2017, \"week\": 32, \"read\": 29}, {\"year\": 2017, \"week\": 33, \"read\": 30}, {\"year\": 2017, \"week\": 34, \"read\": 33}, {\"year\": 2017, \"week\": 35, \"read\": 34}, {\"year\": 2017, \"week\": 37, \"read\": 36}, {\"year\": 2017, \"week\": 38, \"read\": 37}, {\"year\": 2017, \"week\": 39, \"read\": 38}, {\"year\": 2017, \"week\": 40, \"read\": 39}, {\"year\": 2017, \"week\": 41, \"read\": 40}, {\"year\": 2017, \"week\": 42, \"read\": 41}, {\"year\": 2017, \"week\": 43, \"read\": 42}, {\"year\": 2017, \"week\": 44, \"read\": 43}, {\"year\": 2017, \"week\": 45, \"read\": 44}, {\"year\": 2017, \"week\": 48, \"read\": 46}, {\"year\": 2017, \"week\": 49, \"read\": 47}, {\"year\": 2017, \"week\": 50, \"read\": 48}, {\"year\": 2017, \"week\": 51, \"read\": 49}, {\"year\": 2017, \"week\": 52, \"read\": 52}, {\"year\": 2018, \"week\": 1, \"read\": 1}, {\"year\": 2018, \"week\": 2, \"read\": 3}, {\"year\": 2018, \"week\": 3, \"read\": 4}, {\"year\": 2018, \"week\": 6, \"read\": 7}, {\"year\": 2018, \"week\": 8, \"read\": 8}, {\"year\": 2018, \"week\": 9, \"read\": 9}, {\"year\": 2018, \"week\": 10, \"read\": 10}, {\"year\": 2018, \"week\": 14, \"read\": 11}, {\"year\": 2018, \"week\": 18, \"read\": 12}, {\"year\": 2018, \"week\": 19, \"read\": 14}, {\"year\": 2018, \"week\": 21, \"read\": 16}, {\"year\": 2018, \"week\": 23, \"read\": 19}, {\"year\": 2018, \"week\": 25, \"read\": 21}, {\"year\": 2018, \"week\": 26, \"read\": 22}, {\"year\": 2018, \"week\": 27, \"read\": 24}, {\"year\": 2018, \"week\": 28, \"read\": 25}, {\"year\": 2018, \"week\": 29, \"read\": 30}, {\"year\": 2018, \"week\": 30, \"read\": 31}, {\"year\": 2018, \"week\": 31, \"read\": 33}, {\"year\": 2018, \"week\": 33, \"read\": 35}, {\"year\": 2018, \"week\": 35, \"read\": 36}, {\"year\": 2018, \"week\": 36, \"read\": 37}, {\"year\": 2018, \"week\": 39, \"read\": 38}, {\"year\": 2018, \"week\": 41, \"read\": 40}, {\"year\": 2018, \"week\": 42, \"read\": 42}, {\"year\": 2018, \"week\": 43, \"read\": 44}, {\"year\": 2018, \"week\": 44, \"read\": 45}, {\"year\": 2018, \"week\": 45, \"read\": 46}, {\"year\": 2018, \"week\": 46, \"read\": 47}, {\"year\": 2018, \"week\": 47, \"read\": 48}, {\"year\": 2018, \"week\": 51, \"read\": 51}, {\"year\": 2018, \"week\": 52, \"read\": 52}, {\"year\": 2019, \"week\": 1, \"read\": 3}, {\"year\": 2019, \"week\": 2, \"read\": 4}, {\"year\": 2019, \"week\": 6, \"read\": 5}, {\"year\": 2019, \"week\": 8, \"read\": 6}, {\"year\": 2019, \"week\": 11, \"read\": 7}, {\"year\": 2019, \"week\": 13, \"read\": 8}, {\"year\": 2019, \"week\": 14, \"read\": 9}, {\"year\": 2019, \"week\": 15, \"read\": 10}, {\"year\": 2019, \"week\": 16, \"read\": 11}, {\"year\": 2019, \"week\": 17, \"read\": 12}, {\"year\": 2019, \"week\": 18, \"read\": 13}, {\"year\": 2019, \"week\": 19, \"read\": 16}, {\"year\": 2019, \"week\": 20, \"read\": 18}, {\"year\": 2019, \"week\": 21, \"read\": 19}, {\"year\": 2019, \"week\": 24, \"read\": 20}, {\"year\": 2019, \"week\": 25, \"read\": 21}, {\"year\": 2019, \"week\": 26, \"read\": 23}, {\"year\": 2019, \"week\": 27, \"read\": 24}, {\"year\": 2019, \"week\": 28, \"read\": 27}, {\"year\": 2019, \"week\": 30, \"read\": 29}, {\"year\": 2019, \"week\": 32, \"read\": 31}, {\"year\": 2019, \"week\": 34, \"read\": 32}, {\"year\": 2019, \"week\": 37, \"read\": 33}, {\"year\": 2019, \"week\": 38, \"read\": 34}, {\"year\": 2019, \"week\": 40, \"read\": 35}, {\"year\": 2019, \"week\": 42, \"read\": 37}, {\"year\": 2019, \"week\": 43, \"read\": 38}, {\"year\": 2019, \"week\": 44, \"read\": 40}, {\"year\": 2019, \"week\": 45, \"read\": 41}, {\"year\": 2019, \"week\": 48, \"read\": 44}, {\"year\": 2019, \"week\": 49, \"read\": 46}, {\"year\": 2019, \"week\": 50, \"read\": 47}]}};\n",
       "const opt = {};\n",
       "const type = \"vega-lite\";\n",
       "const id = \"a8f91c34-3e81-414a-852f-eadf7c819365\";\n",
       "\n",
       "const output_area = this;\n",
       "\n",
       "require([\"nbextensions/jupyter-vega/index\"], function(vega) {\n",
       "  const target = document.createElement(\"div\");\n",
       "  target.id = id;\n",
       "  target.className = \"vega-embed\";\n",
       "\n",
       "  const style = document.createElement(\"style\");\n",
       "  style.textContent = [\n",
       "    \".vega-embed .error p {\",\n",
       "    \"  color: firebrick;\",\n",
       "    \"  font-size: 14px;\",\n",
       "    \"}\",\n",
       "  ].join(\"\\\\n\");\n",
       "\n",
       "  // element is a jQuery wrapped DOM element inside the output area\n",
       "  // see http://ipython.readthedocs.io/en/stable/api/generated/\\\n",
       "  // IPython.display.html#IPython.display.Javascript.__init__\n",
       "  element[0].appendChild(target);\n",
       "  element[0].appendChild(style);\n",
       "\n",
       "  vega.render(\"#\" + id, spec, type, opt, output_area);\n",
       "}, function (err) {\n",
       "  if (err.requireType !== \"scripterror\") {\n",
       "    throw(err);\n",
       "  }\n",
       "});\n"
      ],
      "text/plain": [
       "<vega.vegalite.VegaLite at 0x102b53e10>"
      ]
     },
     "metadata": {
      "jupyter-vega": "#a8f91c34-3e81-414a-852f-eadf7c819365"
     },
     "output_type": "display_data"
    },
    {
     "data": {
      "text/plain": []
     },
     "execution_count": 36,
     "metadata": {},
     "output_type": "execute_result"
    },
    {
     "data": {
      "image/png": "[encoded data removed]"
     },
     "metadata": {
      "jupyter-vega": "#a8f91c34-3e81-414a-852f-eadf7c819365"
     },
     "output_type": "display_data"
    }
   ],
   "source": [
    "chart = (\n",
    "    alt.Chart(df)\n",
    "    .mark_line(interpolate='basis')\n",
    "    .encode(\n",
    "        x='week',\n",
    "        y='read',\n",
    "        color='year:O')\n",
    "    .properties(\n",
    "        height=300, \n",
    "        width=300,\n",
    "        title='goodreads Challenge'\n",
    "    )\n",
    ")\n",
    "\n",
    "chart"
   ]
  }
 ],
 "metadata": {
  "kernelspec": {
   "display_name": "Python 3",
   "language": "python",
   "name": "python3"
  },
  "language_info": {
   "codemirror_mode": {
    "name": "ipython",
    "version": 3
   },
   "file_extension": ".py",
   "mimetype": "text/x-python",
   "name": "python",
   "nbconvert_exporter": "python",
   "pygments_lexer": "ipython3",
   "version": "3.7.3"
  }
 },
 "nbformat": 4,
 "nbformat_minor": 2
}
