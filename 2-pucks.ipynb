{
 "cells": [
  {
   "cell_type": "code",
   "execution_count": 2,
   "metadata": {},
   "outputs": [],
   "source": [
    "from gazpacho import get, Soup"
   ]
  },
  {
   "cell_type": "code",
   "execution_count": 3,
   "metadata": {},
   "outputs": [],
   "source": [
    "url = 'https://www.capfriendly.com/'\n",
    "html = get(url)"
   ]
  },
  {
   "cell_type": "code",
   "execution_count": 4,
   "metadata": {},
   "outputs": [],
   "source": [
    "soup = Soup(html)"
   ]
  },
  {
   "cell_type": "code",
   "execution_count": 5,
   "metadata": {},
   "outputs": [],
   "source": [
    "table = soup.find('table', {'id': 'ich'})"
   ]
  },
  {
   "cell_type": "code",
   "execution_count": 8,
   "metadata": {},
   "outputs": [
    {
     "data": {
      "text/plain": [
       "'<table id=\"ich\" class=\"sortablex tblcf index tbl sortable\"><thead><tr class=\"column_head\"><th class='"
      ]
     },
     "execution_count": 8,
     "metadata": {},
     "output_type": "execute_result"
    }
   ],
   "source": [
    "str(table)[:100]"
   ]
  },
  {
   "cell_type": "code",
   "execution_count": 9,
   "metadata": {},
   "outputs": [],
   "source": [
    "trs = table.find('tr', {'class': 'tmx'})"
   ]
  },
  {
   "cell_type": "code",
   "execution_count": 10,
   "metadata": {},
   "outputs": [],
   "source": [
    "tr = trs[0]"
   ]
  },
  {
   "cell_type": "code",
   "execution_count": 11,
   "metadata": {},
   "outputs": [
    {
     "data": {
      "text/plain": [
       "'Arizona Coyotes'"
      ]
     },
     "execution_count": 11,
     "metadata": {},
     "output_type": "execute_result"
    }
   ],
   "source": [
    "tr.find('a', mode='first').text"
   ]
  },
  {
   "cell_type": "code",
   "execution_count": 13,
   "metadata": {},
   "outputs": [
    {
     "data": {
      "text/plain": [
       "'$83,657,876'"
      ]
     },
     "execution_count": 13,
     "metadata": {},
     "output_type": "execute_result"
    }
   ],
   "source": [
    "tr.find('td', {'data-label': 'PROJECTED CAP HIT'}, strict=True).text"
   ]
  },
  {
   "cell_type": "code",
   "execution_count": 14,
   "metadata": {},
   "outputs": [],
   "source": [
    "def parse_tr(tr):\n",
    "    team = tr.find('a', mode='first').text\n",
    "    cap = tr.find('td', {'data-label': 'PROJECTED CAP HIT'}, strict=True).text\n",
    "    cap = float(cap.replace(',', '').replace('$', ''))\n",
    "    return team, cap"
   ]
  },
  {
   "cell_type": "code",
   "execution_count": 15,
   "metadata": {},
   "outputs": [],
   "source": [
    "cap_hits = [parse_tr(tr) for tr in trs]"
   ]
  },
  {
   "cell_type": "code",
   "execution_count": 16,
   "metadata": {},
   "outputs": [],
   "source": [
    "url = 'https://www.hockey-reference.com/friv/playoff_prob.fcgi'\n",
    "html = get(url)"
   ]
  },
  {
   "cell_type": "code",
   "execution_count": 17,
   "metadata": {},
   "outputs": [],
   "source": [
    "soup = Soup(html)"
   ]
  },
  {
   "cell_type": "code",
   "execution_count": 19,
   "metadata": {},
   "outputs": [],
   "source": [
    "import pandas as pd"
   ]
  },
  {
   "cell_type": "code",
   "execution_count": 20,
   "metadata": {},
   "outputs": [],
   "source": [
    "east = pd.read_html(str(soup.find('table')[0]))[0]\n",
    "west = pd.read_html(str(soup.find('table')[1]))[0]"
   ]
  },
  {
   "cell_type": "code",
   "execution_count": 21,
   "metadata": {},
   "outputs": [],
   "source": [
    "df = pd.concat([east, west])[['Team', 'W']].reset_index(drop=True)\n",
    "df['W'] = df['W'].apply(pd.to_numeric, errors='coerce')\n",
    "wins = df.dropna()"
   ]
  },
  {
   "cell_type": "code",
   "execution_count": 22,
   "metadata": {},
   "outputs": [
    {
     "data": {
      "text/html": [
       "<div>\n",
       "<style scoped>\n",
       "    .dataframe tbody tr th:only-of-type {\n",
       "        vertical-align: middle;\n",
       "    }\n",
       "\n",
       "    .dataframe tbody tr th {\n",
       "        vertical-align: top;\n",
       "    }\n",
       "\n",
       "    .dataframe thead th {\n",
       "        text-align: right;\n",
       "    }\n",
       "</style>\n",
       "<table border=\"1\" class=\"dataframe\">\n",
       "  <thead>\n",
       "    <tr style=\"text-align: right;\">\n",
       "      <th></th>\n",
       "      <th>Team</th>\n",
       "      <th>W</th>\n",
       "      <th>spend</th>\n",
       "      <th>mpw</th>\n",
       "    </tr>\n",
       "  </thead>\n",
       "  <tbody>\n",
       "    <tr>\n",
       "      <th>16</th>\n",
       "      <td>Colorado Avalanche</td>\n",
       "      <td>49.1</td>\n",
       "      <td>75106723.0</td>\n",
       "      <td>1.53</td>\n",
       "    </tr>\n",
       "    <tr>\n",
       "      <th>9</th>\n",
       "      <td>New York Islanders</td>\n",
       "      <td>48.6</td>\n",
       "      <td>75499829.0</td>\n",
       "      <td>1.55</td>\n",
       "    </tr>\n",
       "    <tr>\n",
       "      <th>8</th>\n",
       "      <td>Washington Capitals</td>\n",
       "      <td>50.2</td>\n",
       "      <td>81007358.0</td>\n",
       "      <td>1.61</td>\n",
       "    </tr>\n",
       "    <tr>\n",
       "      <th>18</th>\n",
       "      <td>Winnipeg Jets</td>\n",
       "      <td>44.9</td>\n",
       "      <td>76112344.0</td>\n",
       "      <td>1.70</td>\n",
       "    </tr>\n",
       "    <tr>\n",
       "      <th>0</th>\n",
       "      <td>Boston Bruins</td>\n",
       "      <td>47.5</td>\n",
       "      <td>83075527.0</td>\n",
       "      <td>1.75</td>\n",
       "    </tr>\n",
       "    <tr>\n",
       "      <th>11</th>\n",
       "      <td>Carolina Hurricanes</td>\n",
       "      <td>45.6</td>\n",
       "      <td>80481143.0</td>\n",
       "      <td>1.76</td>\n",
       "    </tr>\n",
       "    <tr>\n",
       "      <th>10</th>\n",
       "      <td>Pittsburgh Penguins</td>\n",
       "      <td>44.5</td>\n",
       "      <td>80759087.0</td>\n",
       "      <td>1.81</td>\n",
       "    </tr>\n",
       "    <tr>\n",
       "      <th>1</th>\n",
       "      <td>Tampa Bay Lightning</td>\n",
       "      <td>43.5</td>\n",
       "      <td>79685580.0</td>\n",
       "      <td>1.83</td>\n",
       "    </tr>\n",
       "    <tr>\n",
       "      <th>19</th>\n",
       "      <td>Dallas Stars</td>\n",
       "      <td>44.1</td>\n",
       "      <td>81825021.0</td>\n",
       "      <td>1.86</td>\n",
       "    </tr>\n",
       "    <tr>\n",
       "      <th>17</th>\n",
       "      <td>St. Louis Blues</td>\n",
       "      <td>43.9</td>\n",
       "      <td>83043070.0</td>\n",
       "      <td>1.89</td>\n",
       "    </tr>\n",
       "    <tr>\n",
       "      <th>23</th>\n",
       "      <td>Arizona Coyotes</td>\n",
       "      <td>43.8</td>\n",
       "      <td>83657876.0</td>\n",
       "      <td>1.91</td>\n",
       "    </tr>\n",
       "    <tr>\n",
       "      <th>13</th>\n",
       "      <td>New York Rangers</td>\n",
       "      <td>40.9</td>\n",
       "      <td>78167774.0</td>\n",
       "      <td>1.91</td>\n",
       "    </tr>\n",
       "    <tr>\n",
       "      <th>12</th>\n",
       "      <td>Philadelphia Flyers</td>\n",
       "      <td>43.5</td>\n",
       "      <td>83075992.0</td>\n",
       "      <td>1.91</td>\n",
       "    </tr>\n",
       "    <tr>\n",
       "      <th>2</th>\n",
       "      <td>Florida Panthers</td>\n",
       "      <td>42.2</td>\n",
       "      <td>80982506.0</td>\n",
       "      <td>1.92</td>\n",
       "    </tr>\n",
       "    <tr>\n",
       "      <th>24</th>\n",
       "      <td>Edmonton Oilers</td>\n",
       "      <td>42.1</td>\n",
       "      <td>80861524.0</td>\n",
       "      <td>1.92</td>\n",
       "    </tr>\n",
       "    <tr>\n",
       "      <th>4</th>\n",
       "      <td>Montreal Canadiens</td>\n",
       "      <td>39.8</td>\n",
       "      <td>76887482.0</td>\n",
       "      <td>1.93</td>\n",
       "    </tr>\n",
       "    <tr>\n",
       "      <th>20</th>\n",
       "      <td>Nashville Predators</td>\n",
       "      <td>39.9</td>\n",
       "      <td>78929885.0</td>\n",
       "      <td>1.98</td>\n",
       "    </tr>\n",
       "    <tr>\n",
       "      <th>27</th>\n",
       "      <td>Vegas Golden Knights</td>\n",
       "      <td>40.5</td>\n",
       "      <td>81570555.0</td>\n",
       "      <td>2.01</td>\n",
       "    </tr>\n",
       "    <tr>\n",
       "      <th>25</th>\n",
       "      <td>Calgary Flames</td>\n",
       "      <td>41.4</td>\n",
       "      <td>83089710.0</td>\n",
       "      <td>2.01</td>\n",
       "    </tr>\n",
       "    <tr>\n",
       "      <th>14</th>\n",
       "      <td>Columbus Blue Jackets</td>\n",
       "      <td>36.6</td>\n",
       "      <td>74152951.0</td>\n",
       "      <td>2.03</td>\n",
       "    </tr>\n",
       "    <tr>\n",
       "      <th>6</th>\n",
       "      <td>Ottawa Senators</td>\n",
       "      <td>36.8</td>\n",
       "      <td>75204200.0</td>\n",
       "      <td>2.04</td>\n",
       "    </tr>\n",
       "    <tr>\n",
       "      <th>26</th>\n",
       "      <td>Vancouver Canucks</td>\n",
       "      <td>41.0</td>\n",
       "      <td>83826871.0</td>\n",
       "      <td>2.04</td>\n",
       "    </tr>\n",
       "    <tr>\n",
       "      <th>21</th>\n",
       "      <td>Minnesota Wild</td>\n",
       "      <td>39.1</td>\n",
       "      <td>80027404.0</td>\n",
       "      <td>2.05</td>\n",
       "    </tr>\n",
       "    <tr>\n",
       "      <th>28</th>\n",
       "      <td>Anaheim Ducks</td>\n",
       "      <td>37.7</td>\n",
       "      <td>78221580.0</td>\n",
       "      <td>2.07</td>\n",
       "    </tr>\n",
       "    <tr>\n",
       "      <th>3</th>\n",
       "      <td>Buffalo Sabres</td>\n",
       "      <td>40.0</td>\n",
       "      <td>84095384.0</td>\n",
       "      <td>2.10</td>\n",
       "    </tr>\n",
       "    <tr>\n",
       "      <th>29</th>\n",
       "      <td>San Jose Sharks</td>\n",
       "      <td>37.1</td>\n",
       "      <td>81167201.0</td>\n",
       "      <td>2.19</td>\n",
       "    </tr>\n",
       "    <tr>\n",
       "      <th>30</th>\n",
       "      <td>Los Angeles Kings</td>\n",
       "      <td>34.1</td>\n",
       "      <td>76744952.0</td>\n",
       "      <td>2.25</td>\n",
       "    </tr>\n",
       "    <tr>\n",
       "      <th>22</th>\n",
       "      <td>Chicago Blackhawks</td>\n",
       "      <td>36.3</td>\n",
       "      <td>82479656.0</td>\n",
       "      <td>2.27</td>\n",
       "    </tr>\n",
       "    <tr>\n",
       "      <th>5</th>\n",
       "      <td>Toronto Maple Leafs</td>\n",
       "      <td>40.5</td>\n",
       "      <td>94778881.0</td>\n",
       "      <td>2.34</td>\n",
       "    </tr>\n",
       "    <tr>\n",
       "      <th>15</th>\n",
       "      <td>New Jersey Devils</td>\n",
       "      <td>31.1</td>\n",
       "      <td>77739506.0</td>\n",
       "      <td>2.50</td>\n",
       "    </tr>\n",
       "    <tr>\n",
       "      <th>7</th>\n",
       "      <td>Detroit Red Wings</td>\n",
       "      <td>25.2</td>\n",
       "      <td>79546296.0</td>\n",
       "      <td>3.16</td>\n",
       "    </tr>\n",
       "  </tbody>\n",
       "</table>\n",
       "</div>"
      ],
      "text/plain": [
       "                     Team     W       spend   mpw\n",
       "16     Colorado Avalanche  49.1  75106723.0  1.53\n",
       "9      New York Islanders  48.6  75499829.0  1.55\n",
       "8     Washington Capitals  50.2  81007358.0  1.61\n",
       "18          Winnipeg Jets  44.9  76112344.0  1.70\n",
       "0           Boston Bruins  47.5  83075527.0  1.75\n",
       "11    Carolina Hurricanes  45.6  80481143.0  1.76\n",
       "10    Pittsburgh Penguins  44.5  80759087.0  1.81\n",
       "1     Tampa Bay Lightning  43.5  79685580.0  1.83\n",
       "19           Dallas Stars  44.1  81825021.0  1.86\n",
       "17        St. Louis Blues  43.9  83043070.0  1.89\n",
       "23        Arizona Coyotes  43.8  83657876.0  1.91\n",
       "13       New York Rangers  40.9  78167774.0  1.91\n",
       "12    Philadelphia Flyers  43.5  83075992.0  1.91\n",
       "2        Florida Panthers  42.2  80982506.0  1.92\n",
       "24        Edmonton Oilers  42.1  80861524.0  1.92\n",
       "4      Montreal Canadiens  39.8  76887482.0  1.93\n",
       "20    Nashville Predators  39.9  78929885.0  1.98\n",
       "27   Vegas Golden Knights  40.5  81570555.0  2.01\n",
       "25         Calgary Flames  41.4  83089710.0  2.01\n",
       "14  Columbus Blue Jackets  36.6  74152951.0  2.03\n",
       "6         Ottawa Senators  36.8  75204200.0  2.04\n",
       "26      Vancouver Canucks  41.0  83826871.0  2.04\n",
       "21         Minnesota Wild  39.1  80027404.0  2.05\n",
       "28          Anaheim Ducks  37.7  78221580.0  2.07\n",
       "3          Buffalo Sabres  40.0  84095384.0  2.10\n",
       "29        San Jose Sharks  37.1  81167201.0  2.19\n",
       "30      Los Angeles Kings  34.1  76744952.0  2.25\n",
       "22     Chicago Blackhawks  36.3  82479656.0  2.27\n",
       "5     Toronto Maple Leafs  40.5  94778881.0  2.34\n",
       "15      New Jersey Devils  31.1  77739506.0  2.50\n",
       "7       Detroit Red Wings  25.2  79546296.0  3.16"
      ]
     },
     "execution_count": 22,
     "metadata": {},
     "output_type": "execute_result"
    }
   ],
   "source": [
    "cap_hits = pd.DataFrame(cap_hits, columns=['Team', 'spend'])\n",
    "df = pd.merge(wins, cap_hits, on='Team', how='left')\n",
    "df['mpw'] = round(df['spend'] / df['W'] / 1_000_000, 2)\n",
    "df.sort_values('mpw', ascending=True)"
   ]
  }
 ],
 "metadata": {
  "kernelspec": {
   "display_name": "Python 3",
   "language": "python",
   "name": "python3"
  },
  "language_info": {
   "codemirror_mode": {
    "name": "ipython",
    "version": 3
   },
   "file_extension": ".py",
   "mimetype": "text/x-python",
   "name": "python",
   "nbconvert_exporter": "python",
   "pygments_lexer": "ipython3",
   "version": "3.7.3"
  }
 },
 "nbformat": 4,
 "nbformat_minor": 2
}
