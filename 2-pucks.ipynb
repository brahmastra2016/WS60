{
 "cells": [
  {
   "cell_type": "code",
   "execution_count": 1,
   "metadata": {},
   "outputs": [],
   "source": [
    "from gazpacho import get, Soup"
   ]
  },
  {
   "cell_type": "code",
   "execution_count": 2,
   "metadata": {},
   "outputs": [],
   "source": [
    "url = 'https://www.capfriendly.com/'\n",
    "html = get(url)"
   ]
  },
  {
   "cell_type": "code",
   "execution_count": 3,
   "metadata": {},
   "outputs": [],
   "source": [
    "soup = Soup(html)"
   ]
  },
  {
   "cell_type": "code",
   "execution_count": 4,
   "metadata": {},
   "outputs": [],
   "source": [
    "table = soup.find('table', {'id': 'ich'})"
   ]
  },
  {
   "cell_type": "code",
   "execution_count": 5,
   "metadata": {},
   "outputs": [
    {
     "data": {
      "text/plain": [
       "'<table id=\"ich\" class=\"sortablex tblcf index tbl sortable\"><thead><tr class=\"column_head\"><th class='"
      ]
     },
     "execution_count": 5,
     "metadata": {},
     "output_type": "execute_result"
    }
   ],
   "source": [
    "str(table)[:100]"
   ]
  },
  {
   "cell_type": "code",
   "execution_count": 6,
   "metadata": {},
   "outputs": [],
   "source": [
    "trs = table.find('tr', {'class': 'tmx'})"
   ]
  },
  {
   "cell_type": "code",
   "execution_count": 7,
   "metadata": {},
   "outputs": [],
   "source": [
    "tr = trs[0]"
   ]
  },
  {
   "cell_type": "code",
   "execution_count": 8,
   "metadata": {},
   "outputs": [
    {
     "data": {
      "text/plain": [
       "'Arizona Coyotes'"
      ]
     },
     "execution_count": 8,
     "metadata": {},
     "output_type": "execute_result"
    }
   ],
   "source": [
    "tr.find('a', mode='first').text"
   ]
  },
  {
   "cell_type": "code",
   "execution_count": 9,
   "metadata": {},
   "outputs": [
    {
     "data": {
      "text/plain": [
       "'$84,973,671'"
      ]
     },
     "execution_count": 9,
     "metadata": {},
     "output_type": "execute_result"
    }
   ],
   "source": [
    "tr.find('td', {'data-label': 'PROJECTED CAP HIT'}, strict=True).text"
   ]
  },
  {
   "cell_type": "code",
   "execution_count": 10,
   "metadata": {},
   "outputs": [],
   "source": [
    "def parse_tr(tr):\n",
    "    team = tr.find('a', mode='first').text\n",
    "    cap = tr.find('td', {'data-label': 'PROJECTED CAP HIT'}, strict=True).text\n",
    "    cap = float(cap.replace(',', '').replace('$', ''))\n",
    "    return team, cap"
   ]
  },
  {
   "cell_type": "code",
   "execution_count": 11,
   "metadata": {},
   "outputs": [],
   "source": [
    "cap_hits = [parse_tr(tr) for tr in trs]"
   ]
  },
  {
   "cell_type": "code",
   "execution_count": 12,
   "metadata": {},
   "outputs": [],
   "source": [
    "url = 'https://www.hockey-reference.com/friv/playoff_prob.fcgi'\n",
    "html = get(url)"
   ]
  },
  {
   "cell_type": "code",
   "execution_count": 13,
   "metadata": {},
   "outputs": [],
   "source": [
    "soup = Soup(html)"
   ]
  },
  {
   "cell_type": "code",
   "execution_count": 14,
   "metadata": {},
   "outputs": [],
   "source": [
    "import pandas as pd"
   ]
  },
  {
   "cell_type": "code",
   "execution_count": 15,
   "metadata": {},
   "outputs": [],
   "source": [
    "east = pd.read_html(str(soup.find('table')[0]))[0]\n",
    "west = pd.read_html(str(soup.find('table')[1]))[0]"
   ]
  },
  {
   "cell_type": "code",
   "execution_count": 16,
   "metadata": {},
   "outputs": [],
   "source": [
    "df = pd.concat([east, west])[['Team', 'W']].reset_index(drop=True)\n",
    "df['W'] = df['W'].apply(pd.to_numeric, errors='coerce')\n",
    "wins = df.dropna()"
   ]
  },
  {
   "cell_type": "code",
   "execution_count": 17,
   "metadata": {},
   "outputs": [
    {
     "data": {
      "text/html": [
       "<div>\n",
       "<style scoped>\n",
       "    .dataframe tbody tr th:only-of-type {\n",
       "        vertical-align: middle;\n",
       "    }\n",
       "\n",
       "    .dataframe tbody tr th {\n",
       "        vertical-align: top;\n",
       "    }\n",
       "\n",
       "    .dataframe thead th {\n",
       "        text-align: right;\n",
       "    }\n",
       "</style>\n",
       "<table border=\"1\" class=\"dataframe\">\n",
       "  <thead>\n",
       "    <tr style=\"text-align: right;\">\n",
       "      <th></th>\n",
       "      <th>Team</th>\n",
       "      <th>W</th>\n",
       "      <th>spend</th>\n",
       "      <th>mpw</th>\n",
       "    </tr>\n",
       "  </thead>\n",
       "  <tbody>\n",
       "    <tr>\n",
       "      <td>9</td>\n",
       "      <td>New York Islanders</td>\n",
       "      <td>48.3</td>\n",
       "      <td>75517168.0</td>\n",
       "      <td>1.56</td>\n",
       "    </tr>\n",
       "    <tr>\n",
       "      <td>17</td>\n",
       "      <td>Colorado Avalanche</td>\n",
       "      <td>46.6</td>\n",
       "      <td>74711199.0</td>\n",
       "      <td>1.60</td>\n",
       "    </tr>\n",
       "    <tr>\n",
       "      <td>8</td>\n",
       "      <td>Washington Capitals</td>\n",
       "      <td>49.8</td>\n",
       "      <td>81585315.0</td>\n",
       "      <td>1.64</td>\n",
       "    </tr>\n",
       "    <tr>\n",
       "      <td>10</td>\n",
       "      <td>Pittsburgh Penguins</td>\n",
       "      <td>47.5</td>\n",
       "      <td>80725216.0</td>\n",
       "      <td>1.70</td>\n",
       "    </tr>\n",
       "    <tr>\n",
       "      <td>11</td>\n",
       "      <td>Carolina Hurricanes</td>\n",
       "      <td>46.2</td>\n",
       "      <td>79972980.0</td>\n",
       "      <td>1.73</td>\n",
       "    </tr>\n",
       "    <tr>\n",
       "      <td>16</td>\n",
       "      <td>St. Louis Blues</td>\n",
       "      <td>48.1</td>\n",
       "      <td>83126001.0</td>\n",
       "      <td>1.73</td>\n",
       "    </tr>\n",
       "    <tr>\n",
       "      <td>1</td>\n",
       "      <td>Tampa Bay Lightning</td>\n",
       "      <td>44.8</td>\n",
       "      <td>79252023.0</td>\n",
       "      <td>1.77</td>\n",
       "    </tr>\n",
       "    <tr>\n",
       "      <td>0</td>\n",
       "      <td>Boston Bruins</td>\n",
       "      <td>46.7</td>\n",
       "      <td>82612311.0</td>\n",
       "      <td>1.77</td>\n",
       "    </tr>\n",
       "    <tr>\n",
       "      <td>19</td>\n",
       "      <td>Winnipeg Jets</td>\n",
       "      <td>42.9</td>\n",
       "      <td>76537729.0</td>\n",
       "      <td>1.78</td>\n",
       "    </tr>\n",
       "    <tr>\n",
       "      <td>18</td>\n",
       "      <td>Dallas Stars</td>\n",
       "      <td>43.9</td>\n",
       "      <td>81825021.0</td>\n",
       "      <td>1.86</td>\n",
       "    </tr>\n",
       "    <tr>\n",
       "      <td>12</td>\n",
       "      <td>Philadelphia Flyers</td>\n",
       "      <td>43.4</td>\n",
       "      <td>83048385.0</td>\n",
       "      <td>1.91</td>\n",
       "    </tr>\n",
       "    <tr>\n",
       "      <td>3</td>\n",
       "      <td>Florida Panthers</td>\n",
       "      <td>42.1</td>\n",
       "      <td>81398277.0</td>\n",
       "      <td>1.93</td>\n",
       "    </tr>\n",
       "    <tr>\n",
       "      <td>24</td>\n",
       "      <td>Vegas Golden Knights</td>\n",
       "      <td>41.8</td>\n",
       "      <td>81200542.0</td>\n",
       "      <td>1.94</td>\n",
       "    </tr>\n",
       "    <tr>\n",
       "      <td>23</td>\n",
       "      <td>Vancouver Canucks</td>\n",
       "      <td>42.8</td>\n",
       "      <td>82921230.0</td>\n",
       "      <td>1.94</td>\n",
       "    </tr>\n",
       "    <tr>\n",
       "      <td>14</td>\n",
       "      <td>New York Rangers</td>\n",
       "      <td>39.9</td>\n",
       "      <td>78540355.0</td>\n",
       "      <td>1.97</td>\n",
       "    </tr>\n",
       "    <tr>\n",
       "      <td>20</td>\n",
       "      <td>Nashville Predators</td>\n",
       "      <td>40.0</td>\n",
       "      <td>79248720.0</td>\n",
       "      <td>1.98</td>\n",
       "    </tr>\n",
       "    <tr>\n",
       "      <td>4</td>\n",
       "      <td>Montreal Canadiens</td>\n",
       "      <td>39.1</td>\n",
       "      <td>77290175.0</td>\n",
       "      <td>1.98</td>\n",
       "    </tr>\n",
       "    <tr>\n",
       "      <td>13</td>\n",
       "      <td>Columbus Blue Jackets</td>\n",
       "      <td>38.5</td>\n",
       "      <td>76570171.0</td>\n",
       "      <td>1.99</td>\n",
       "    </tr>\n",
       "    <tr>\n",
       "      <td>25</td>\n",
       "      <td>Arizona Coyotes</td>\n",
       "      <td>42.5</td>\n",
       "      <td>84973671.0</td>\n",
       "      <td>2.00</td>\n",
       "    </tr>\n",
       "    <tr>\n",
       "      <td>21</td>\n",
       "      <td>Minnesota Wild</td>\n",
       "      <td>39.5</td>\n",
       "      <td>78813065.0</td>\n",
       "      <td>2.00</td>\n",
       "    </tr>\n",
       "    <tr>\n",
       "      <td>26</td>\n",
       "      <td>Edmonton Oilers</td>\n",
       "      <td>40.1</td>\n",
       "      <td>80590618.0</td>\n",
       "      <td>2.01</td>\n",
       "    </tr>\n",
       "    <tr>\n",
       "      <td>27</td>\n",
       "      <td>Calgary Flames</td>\n",
       "      <td>39.6</td>\n",
       "      <td>82012291.0</td>\n",
       "      <td>2.07</td>\n",
       "    </tr>\n",
       "    <tr>\n",
       "      <td>6</td>\n",
       "      <td>Ottawa Senators</td>\n",
       "      <td>35.4</td>\n",
       "      <td>75277328.0</td>\n",
       "      <td>2.13</td>\n",
       "    </tr>\n",
       "    <tr>\n",
       "      <td>22</td>\n",
       "      <td>Chicago Blackhawks</td>\n",
       "      <td>38.1</td>\n",
       "      <td>82903043.0</td>\n",
       "      <td>2.18</td>\n",
       "    </tr>\n",
       "    <tr>\n",
       "      <td>2</td>\n",
       "      <td>Toronto Maple Leafs</td>\n",
       "      <td>43.7</td>\n",
       "      <td>95109190.0</td>\n",
       "      <td>2.18</td>\n",
       "    </tr>\n",
       "    <tr>\n",
       "      <td>29</td>\n",
       "      <td>Los Angeles Kings</td>\n",
       "      <td>35.2</td>\n",
       "      <td>77075319.0</td>\n",
       "      <td>2.19</td>\n",
       "    </tr>\n",
       "    <tr>\n",
       "      <td>28</td>\n",
       "      <td>Anaheim Ducks</td>\n",
       "      <td>35.3</td>\n",
       "      <td>79318385.0</td>\n",
       "      <td>2.25</td>\n",
       "    </tr>\n",
       "    <tr>\n",
       "      <td>15</td>\n",
       "      <td>New Jersey Devils</td>\n",
       "      <td>32.9</td>\n",
       "      <td>75078373.0</td>\n",
       "      <td>2.28</td>\n",
       "    </tr>\n",
       "    <tr>\n",
       "      <td>5</td>\n",
       "      <td>Buffalo Sabres</td>\n",
       "      <td>37.0</td>\n",
       "      <td>84299820.0</td>\n",
       "      <td>2.28</td>\n",
       "    </tr>\n",
       "    <tr>\n",
       "      <td>30</td>\n",
       "      <td>San Jose Sharks</td>\n",
       "      <td>34.7</td>\n",
       "      <td>80797623.0</td>\n",
       "      <td>2.33</td>\n",
       "    </tr>\n",
       "    <tr>\n",
       "      <td>7</td>\n",
       "      <td>Detroit Red Wings</td>\n",
       "      <td>24.7</td>\n",
       "      <td>80103733.0</td>\n",
       "      <td>3.24</td>\n",
       "    </tr>\n",
       "  </tbody>\n",
       "</table>\n",
       "</div>"
      ],
      "text/plain": [
       "                     Team     W       spend   mpw\n",
       "9      New York Islanders  48.3  75517168.0  1.56\n",
       "17     Colorado Avalanche  46.6  74711199.0  1.60\n",
       "8     Washington Capitals  49.8  81585315.0  1.64\n",
       "10    Pittsburgh Penguins  47.5  80725216.0  1.70\n",
       "11    Carolina Hurricanes  46.2  79972980.0  1.73\n",
       "16        St. Louis Blues  48.1  83126001.0  1.73\n",
       "1     Tampa Bay Lightning  44.8  79252023.0  1.77\n",
       "0           Boston Bruins  46.7  82612311.0  1.77\n",
       "19          Winnipeg Jets  42.9  76537729.0  1.78\n",
       "18           Dallas Stars  43.9  81825021.0  1.86\n",
       "12    Philadelphia Flyers  43.4  83048385.0  1.91\n",
       "3        Florida Panthers  42.1  81398277.0  1.93\n",
       "24   Vegas Golden Knights  41.8  81200542.0  1.94\n",
       "23      Vancouver Canucks  42.8  82921230.0  1.94\n",
       "14       New York Rangers  39.9  78540355.0  1.97\n",
       "20    Nashville Predators  40.0  79248720.0  1.98\n",
       "4      Montreal Canadiens  39.1  77290175.0  1.98\n",
       "13  Columbus Blue Jackets  38.5  76570171.0  1.99\n",
       "25        Arizona Coyotes  42.5  84973671.0  2.00\n",
       "21         Minnesota Wild  39.5  78813065.0  2.00\n",
       "26        Edmonton Oilers  40.1  80590618.0  2.01\n",
       "27         Calgary Flames  39.6  82012291.0  2.07\n",
       "6         Ottawa Senators  35.4  75277328.0  2.13\n",
       "22     Chicago Blackhawks  38.1  82903043.0  2.18\n",
       "2     Toronto Maple Leafs  43.7  95109190.0  2.18\n",
       "29      Los Angeles Kings  35.2  77075319.0  2.19\n",
       "28          Anaheim Ducks  35.3  79318385.0  2.25\n",
       "15      New Jersey Devils  32.9  75078373.0  2.28\n",
       "5          Buffalo Sabres  37.0  84299820.0  2.28\n",
       "30        San Jose Sharks  34.7  80797623.0  2.33\n",
       "7       Detroit Red Wings  24.7  80103733.0  3.24"
      ]
     },
     "execution_count": 17,
     "metadata": {},
     "output_type": "execute_result"
    }
   ],
   "source": [
    "cap_hits = pd.DataFrame(cap_hits, columns=['Team', 'spend'])\n",
    "df = pd.merge(wins, cap_hits, on='Team', how='left')\n",
    "df['mpw'] = round(df['spend'] / df['W'] / 1_000_000, 2)\n",
    "df.sort_values('mpw', ascending=True)"
   ]
  },
  {
   "cell_type": "code",
   "execution_count": 18,
   "metadata": {},
   "outputs": [
    {
     "data": {
      "text/html": [
       "<img src=\"https://media.giphy.com/media/oOX5qIDkzDjeo/giphy.gif\">"
      ],
      "text/plain": [
       "<IPython.core.display.HTML object>"
      ]
     },
     "execution_count": 18,
     "metadata": {},
     "output_type": "execute_result"
    }
   ],
   "source": [
    "from IPython.display import HTML\n",
    "HTML('<img src=\"https://media.giphy.com/media/oOX5qIDkzDjeo/giphy.gif\">')"
   ]
  },
  {
   "cell_type": "markdown",
   "metadata": {},
   "source": [
    "### Saving results"
   ]
  },
  {
   "cell_type": "code",
   "execution_count": 19,
   "metadata": {},
   "outputs": [],
   "source": [
    "df.to_csv('data/mpw.csv', index=False)"
   ]
  },
  {
   "cell_type": "code",
   "execution_count": 20,
   "metadata": {},
   "outputs": [
    {
     "data": {
      "text/html": [
       "<div>\n",
       "<style scoped>\n",
       "    .dataframe tbody tr th:only-of-type {\n",
       "        vertical-align: middle;\n",
       "    }\n",
       "\n",
       "    .dataframe tbody tr th {\n",
       "        vertical-align: top;\n",
       "    }\n",
       "\n",
       "    .dataframe thead th {\n",
       "        text-align: right;\n",
       "    }\n",
       "</style>\n",
       "<table border=\"1\" class=\"dataframe\">\n",
       "  <thead>\n",
       "    <tr style=\"text-align: right;\">\n",
       "      <th></th>\n",
       "      <th>Team</th>\n",
       "      <th>W</th>\n",
       "      <th>spend</th>\n",
       "      <th>mpw</th>\n",
       "    </tr>\n",
       "  </thead>\n",
       "  <tbody>\n",
       "    <tr>\n",
       "      <td>0</td>\n",
       "      <td>Boston Bruins</td>\n",
       "      <td>46.7</td>\n",
       "      <td>82612311.0</td>\n",
       "      <td>1.77</td>\n",
       "    </tr>\n",
       "    <tr>\n",
       "      <td>1</td>\n",
       "      <td>Tampa Bay Lightning</td>\n",
       "      <td>44.8</td>\n",
       "      <td>79252023.0</td>\n",
       "      <td>1.77</td>\n",
       "    </tr>\n",
       "    <tr>\n",
       "      <td>2</td>\n",
       "      <td>Toronto Maple Leafs</td>\n",
       "      <td>43.7</td>\n",
       "      <td>95109190.0</td>\n",
       "      <td>2.18</td>\n",
       "    </tr>\n",
       "    <tr>\n",
       "      <td>3</td>\n",
       "      <td>Florida Panthers</td>\n",
       "      <td>42.1</td>\n",
       "      <td>81398277.0</td>\n",
       "      <td>1.93</td>\n",
       "    </tr>\n",
       "    <tr>\n",
       "      <td>4</td>\n",
       "      <td>Montreal Canadiens</td>\n",
       "      <td>39.1</td>\n",
       "      <td>77290175.0</td>\n",
       "      <td>1.98</td>\n",
       "    </tr>\n",
       "  </tbody>\n",
       "</table>\n",
       "</div>"
      ],
      "text/plain": [
       "                  Team     W       spend   mpw\n",
       "0        Boston Bruins  46.7  82612311.0  1.77\n",
       "1  Tampa Bay Lightning  44.8  79252023.0  1.77\n",
       "2  Toronto Maple Leafs  43.7  95109190.0  2.18\n",
       "3     Florida Panthers  42.1  81398277.0  1.93\n",
       "4   Montreal Canadiens  39.1  77290175.0  1.98"
      ]
     },
     "execution_count": 20,
     "metadata": {},
     "output_type": "execute_result"
    }
   ],
   "source": [
    "df.head()"
   ]
  },
  {
   "cell_type": "code",
   "execution_count": 21,
   "metadata": {},
   "outputs": [],
   "source": [
    "df['date_fetched'] = pd.Timestamp('today')"
   ]
  },
  {
   "cell_type": "code",
   "execution_count": 22,
   "metadata": {},
   "outputs": [
    {
     "data": {
      "text/html": [
       "<div>\n",
       "<style scoped>\n",
       "    .dataframe tbody tr th:only-of-type {\n",
       "        vertical-align: middle;\n",
       "    }\n",
       "\n",
       "    .dataframe tbody tr th {\n",
       "        vertical-align: top;\n",
       "    }\n",
       "\n",
       "    .dataframe thead th {\n",
       "        text-align: right;\n",
       "    }\n",
       "</style>\n",
       "<table border=\"1\" class=\"dataframe\">\n",
       "  <thead>\n",
       "    <tr style=\"text-align: right;\">\n",
       "      <th></th>\n",
       "      <th>Team</th>\n",
       "      <th>W</th>\n",
       "      <th>spend</th>\n",
       "      <th>mpw</th>\n",
       "      <th>date_fetched</th>\n",
       "    </tr>\n",
       "  </thead>\n",
       "  <tbody>\n",
       "    <tr>\n",
       "      <td>0</td>\n",
       "      <td>Boston Bruins</td>\n",
       "      <td>46.7</td>\n",
       "      <td>82612311.0</td>\n",
       "      <td>1.77</td>\n",
       "      <td>2020-01-02 00:17:50.488401</td>\n",
       "    </tr>\n",
       "    <tr>\n",
       "      <td>1</td>\n",
       "      <td>Tampa Bay Lightning</td>\n",
       "      <td>44.8</td>\n",
       "      <td>79252023.0</td>\n",
       "      <td>1.77</td>\n",
       "      <td>2020-01-02 00:17:50.488401</td>\n",
       "    </tr>\n",
       "    <tr>\n",
       "      <td>2</td>\n",
       "      <td>Toronto Maple Leafs</td>\n",
       "      <td>43.7</td>\n",
       "      <td>95109190.0</td>\n",
       "      <td>2.18</td>\n",
       "      <td>2020-01-02 00:17:50.488401</td>\n",
       "    </tr>\n",
       "    <tr>\n",
       "      <td>3</td>\n",
       "      <td>Florida Panthers</td>\n",
       "      <td>42.1</td>\n",
       "      <td>81398277.0</td>\n",
       "      <td>1.93</td>\n",
       "      <td>2020-01-02 00:17:50.488401</td>\n",
       "    </tr>\n",
       "    <tr>\n",
       "      <td>4</td>\n",
       "      <td>Montreal Canadiens</td>\n",
       "      <td>39.1</td>\n",
       "      <td>77290175.0</td>\n",
       "      <td>1.98</td>\n",
       "      <td>2020-01-02 00:17:50.488401</td>\n",
       "    </tr>\n",
       "  </tbody>\n",
       "</table>\n",
       "</div>"
      ],
      "text/plain": [
       "                  Team     W       spend   mpw               date_fetched\n",
       "0        Boston Bruins  46.7  82612311.0  1.77 2020-01-02 00:17:50.488401\n",
       "1  Tampa Bay Lightning  44.8  79252023.0  1.77 2020-01-02 00:17:50.488401\n",
       "2  Toronto Maple Leafs  43.7  95109190.0  2.18 2020-01-02 00:17:50.488401\n",
       "3     Florida Panthers  42.1  81398277.0  1.93 2020-01-02 00:17:50.488401\n",
       "4   Montreal Canadiens  39.1  77290175.0  1.98 2020-01-02 00:17:50.488401"
      ]
     },
     "execution_count": 22,
     "metadata": {},
     "output_type": "execute_result"
    }
   ],
   "source": [
    "df.head()"
   ]
  },
  {
   "cell_type": "code",
   "execution_count": 23,
   "metadata": {},
   "outputs": [],
   "source": [
    "import sqlite3\n",
    "\n",
    "con = sqlite3.connect('data/mpw.db')\n",
    "\n",
    "df.to_sql('teams', con, index=False, if_exists='append')"
   ]
  },
  {
   "cell_type": "code",
   "execution_count": 24,
   "metadata": {},
   "outputs": [
    {
     "data": {
      "text/html": [
       "<div>\n",
       "<style scoped>\n",
       "    .dataframe tbody tr th:only-of-type {\n",
       "        vertical-align: middle;\n",
       "    }\n",
       "\n",
       "    .dataframe tbody tr th {\n",
       "        vertical-align: top;\n",
       "    }\n",
       "\n",
       "    .dataframe thead th {\n",
       "        text-align: right;\n",
       "    }\n",
       "</style>\n",
       "<table border=\"1\" class=\"dataframe\">\n",
       "  <thead>\n",
       "    <tr style=\"text-align: right;\">\n",
       "      <th></th>\n",
       "      <th>Team</th>\n",
       "      <th>W</th>\n",
       "      <th>spend</th>\n",
       "      <th>mpw</th>\n",
       "      <th>date_fetched</th>\n",
       "    </tr>\n",
       "  </thead>\n",
       "  <tbody>\n",
       "    <tr>\n",
       "      <td>0</td>\n",
       "      <td>Detroit Red Wings</td>\n",
       "      <td>24.7</td>\n",
       "      <td>80103733.0</td>\n",
       "      <td>3.24</td>\n",
       "      <td>2020-01-02 00:17:50.488401</td>\n",
       "    </tr>\n",
       "    <tr>\n",
       "      <td>1</td>\n",
       "      <td>San Jose Sharks</td>\n",
       "      <td>34.7</td>\n",
       "      <td>80797623.0</td>\n",
       "      <td>2.33</td>\n",
       "      <td>2020-01-02 00:17:50.488401</td>\n",
       "    </tr>\n",
       "    <tr>\n",
       "      <td>2</td>\n",
       "      <td>Buffalo Sabres</td>\n",
       "      <td>37.0</td>\n",
       "      <td>84299820.0</td>\n",
       "      <td>2.28</td>\n",
       "      <td>2020-01-02 00:17:50.488401</td>\n",
       "    </tr>\n",
       "    <tr>\n",
       "      <td>3</td>\n",
       "      <td>New Jersey Devils</td>\n",
       "      <td>32.9</td>\n",
       "      <td>75078373.0</td>\n",
       "      <td>2.28</td>\n",
       "      <td>2020-01-02 00:17:50.488401</td>\n",
       "    </tr>\n",
       "    <tr>\n",
       "      <td>4</td>\n",
       "      <td>Anaheim Ducks</td>\n",
       "      <td>35.3</td>\n",
       "      <td>79318385.0</td>\n",
       "      <td>2.25</td>\n",
       "      <td>2020-01-02 00:17:50.488401</td>\n",
       "    </tr>\n",
       "    <tr>\n",
       "      <td>5</td>\n",
       "      <td>Los Angeles Kings</td>\n",
       "      <td>35.2</td>\n",
       "      <td>77075319.0</td>\n",
       "      <td>2.19</td>\n",
       "      <td>2020-01-02 00:17:50.488401</td>\n",
       "    </tr>\n",
       "    <tr>\n",
       "      <td>6</td>\n",
       "      <td>Chicago Blackhawks</td>\n",
       "      <td>38.1</td>\n",
       "      <td>82903043.0</td>\n",
       "      <td>2.18</td>\n",
       "      <td>2020-01-02 00:17:50.488401</td>\n",
       "    </tr>\n",
       "    <tr>\n",
       "      <td>7</td>\n",
       "      <td>Ottawa Senators</td>\n",
       "      <td>35.4</td>\n",
       "      <td>75277328.0</td>\n",
       "      <td>2.13</td>\n",
       "      <td>2020-01-02 00:17:50.488401</td>\n",
       "    </tr>\n",
       "    <tr>\n",
       "      <td>8</td>\n",
       "      <td>Calgary Flames</td>\n",
       "      <td>39.6</td>\n",
       "      <td>82012291.0</td>\n",
       "      <td>2.07</td>\n",
       "      <td>2020-01-02 00:17:50.488401</td>\n",
       "    </tr>\n",
       "    <tr>\n",
       "      <td>9</td>\n",
       "      <td>Edmonton Oilers</td>\n",
       "      <td>40.1</td>\n",
       "      <td>80590618.0</td>\n",
       "      <td>2.01</td>\n",
       "      <td>2020-01-02 00:17:50.488401</td>\n",
       "    </tr>\n",
       "  </tbody>\n",
       "</table>\n",
       "</div>"
      ],
      "text/plain": [
       "                 Team     W       spend   mpw                date_fetched\n",
       "0   Detroit Red Wings  24.7  80103733.0  3.24  2020-01-02 00:17:50.488401\n",
       "1     San Jose Sharks  34.7  80797623.0  2.33  2020-01-02 00:17:50.488401\n",
       "2      Buffalo Sabres  37.0  84299820.0  2.28  2020-01-02 00:17:50.488401\n",
       "3   New Jersey Devils  32.9  75078373.0  2.28  2020-01-02 00:17:50.488401\n",
       "4       Anaheim Ducks  35.3  79318385.0  2.25  2020-01-02 00:17:50.488401\n",
       "5   Los Angeles Kings  35.2  77075319.0  2.19  2020-01-02 00:17:50.488401\n",
       "6  Chicago Blackhawks  38.1  82903043.0  2.18  2020-01-02 00:17:50.488401\n",
       "7     Ottawa Senators  35.4  75277328.0  2.13  2020-01-02 00:17:50.488401\n",
       "8      Calgary Flames  39.6  82012291.0  2.07  2020-01-02 00:17:50.488401\n",
       "9     Edmonton Oilers  40.1  80590618.0  2.01  2020-01-02 00:17:50.488401"
      ]
     },
     "execution_count": 24,
     "metadata": {},
     "output_type": "execute_result"
    }
   ],
   "source": [
    "pd.read_sql('''\n",
    "    select \n",
    "    * \n",
    "    from teams \n",
    "    where mpw > 2 and W < 41\n",
    "    order by mpw desc\n",
    "''', con)"
   ]
  }
 ],
 "metadata": {
  "kernelspec": {
   "display_name": "Python 3",
   "language": "python",
   "name": "python3"
  },
  "language_info": {
   "codemirror_mode": {
    "name": "ipython",
    "version": 3
   },
   "file_extension": ".py",
   "mimetype": "text/x-python",
   "name": "python",
   "nbconvert_exporter": "python",
   "pygments_lexer": "ipython3",
   "version": "3.7.4"
  }
 },
 "nbformat": 4,
 "nbformat_minor": 2
}
