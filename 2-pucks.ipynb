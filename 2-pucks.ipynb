{
 "cells": [
  {
   "cell_type": "code",
   "execution_count": 1,
   "metadata": {},
   "outputs": [],
   "source": [
    "from gazpacho import get, Soup"
   ]
  },
  {
   "cell_type": "code",
   "execution_count": 2,
   "metadata": {},
   "outputs": [],
   "source": [
    "url = 'https://www.capfriendly.com/'\n",
    "html = get(url)"
   ]
  },
  {
   "cell_type": "code",
   "execution_count": 3,
   "metadata": {},
   "outputs": [],
   "source": [
    "soup = Soup(html)"
   ]
  },
  {
   "cell_type": "code",
   "execution_count": 4,
   "metadata": {},
   "outputs": [],
   "source": [
    "table = soup.find('table', {'id': 'ich'})"
   ]
  },
  {
   "cell_type": "code",
   "execution_count": 5,
   "metadata": {},
   "outputs": [
    {
     "data": {
      "text/plain": [
       "'<table id=\"ich\" class=\"sortablex tblcf index tbl sortable\"><thead><tr class=\"column_head\"><th class='"
      ]
     },
     "execution_count": 5,
     "metadata": {},
     "output_type": "execute_result"
    }
   ],
   "source": [
    "str(table)[:100]"
   ]
  },
  {
   "cell_type": "code",
   "execution_count": 6,
   "metadata": {},
   "outputs": [],
   "source": [
    "trs = table.find('tr', {'class': 'tmx'})"
   ]
  },
  {
   "cell_type": "code",
   "execution_count": 7,
   "metadata": {},
   "outputs": [],
   "source": [
    "tr = trs[0]"
   ]
  },
  {
   "cell_type": "code",
   "execution_count": 8,
   "metadata": {},
   "outputs": [
    {
     "data": {
      "text/plain": [
       "'Arizona Coyotes'"
      ]
     },
     "execution_count": 8,
     "metadata": {},
     "output_type": "execute_result"
    }
   ],
   "source": [
    "tr.find('a', mode='first').text"
   ]
  },
  {
   "cell_type": "code",
   "execution_count": 9,
   "metadata": {},
   "outputs": [
    {
     "data": {
      "text/plain": [
       "'$85,064,336'"
      ]
     },
     "execution_count": 9,
     "metadata": {},
     "output_type": "execute_result"
    }
   ],
   "source": [
    "tr.find('td', {'data-label': 'PROJECTED CAP HIT'}, strict=True).text"
   ]
  },
  {
   "cell_type": "code",
   "execution_count": 10,
   "metadata": {},
   "outputs": [],
   "source": [
    "def parse_tr(tr):\n",
    "    team = tr.find('a', mode='first').text\n",
    "    cap = tr.find('td', {'data-label': 'PROJECTED CAP HIT'}, strict=True).text\n",
    "    cap = float(cap.replace(',', '').replace('$', ''))\n",
    "    return team, cap"
   ]
  },
  {
   "cell_type": "code",
   "execution_count": 11,
   "metadata": {},
   "outputs": [],
   "source": [
    "cap_hits = [parse_tr(tr) for tr in trs]"
   ]
  },
  {
   "cell_type": "code",
   "execution_count": 12,
   "metadata": {},
   "outputs": [],
   "source": [
    "url = 'https://www.hockey-reference.com/friv/playoff_prob.fcgi'\n",
    "html = get(url)"
   ]
  },
  {
   "cell_type": "code",
   "execution_count": 13,
   "metadata": {},
   "outputs": [],
   "source": [
    "soup = Soup(html)"
   ]
  },
  {
   "cell_type": "code",
   "execution_count": 14,
   "metadata": {},
   "outputs": [],
   "source": [
    "import pandas as pd"
   ]
  },
  {
   "cell_type": "code",
   "execution_count": 15,
   "metadata": {},
   "outputs": [],
   "source": [
    "east = pd.read_html(str(soup.find('table')[0]))[0]\n",
    "west = pd.read_html(str(soup.find('table')[1]))[0]"
   ]
  },
  {
   "cell_type": "code",
   "execution_count": 16,
   "metadata": {},
   "outputs": [],
   "source": [
    "df = pd.concat([east, west])[['Team', 'W']].reset_index(drop=True)\n",
    "df['W'] = df['W'].apply(pd.to_numeric, errors='coerce')\n",
    "wins = df.dropna()"
   ]
  },
  {
   "cell_type": "code",
   "execution_count": 17,
   "metadata": {},
   "outputs": [
    {
     "data": {
      "text/html": [
       "<div>\n",
       "<style scoped>\n",
       "    .dataframe tbody tr th:only-of-type {\n",
       "        vertical-align: middle;\n",
       "    }\n",
       "\n",
       "    .dataframe tbody tr th {\n",
       "        vertical-align: top;\n",
       "    }\n",
       "\n",
       "    .dataframe thead th {\n",
       "        text-align: right;\n",
       "    }\n",
       "</style>\n",
       "<table border=\"1\" class=\"dataframe\">\n",
       "  <thead>\n",
       "    <tr style=\"text-align: right;\">\n",
       "      <th></th>\n",
       "      <th>Team</th>\n",
       "      <th>W</th>\n",
       "      <th>spend</th>\n",
       "      <th>mpw</th>\n",
       "    </tr>\n",
       "  </thead>\n",
       "  <tbody>\n",
       "    <tr>\n",
       "      <td>9</td>\n",
       "      <td>New York Islanders</td>\n",
       "      <td>49.2</td>\n",
       "      <td>75499829.0</td>\n",
       "      <td>1.53</td>\n",
       "    </tr>\n",
       "    <tr>\n",
       "      <td>16</td>\n",
       "      <td>Colorado Avalanche</td>\n",
       "      <td>48.7</td>\n",
       "      <td>75122369.0</td>\n",
       "      <td>1.54</td>\n",
       "    </tr>\n",
       "    <tr>\n",
       "      <td>8</td>\n",
       "      <td>Washington Capitals</td>\n",
       "      <td>50.0</td>\n",
       "      <td>81007358.0</td>\n",
       "      <td>1.62</td>\n",
       "    </tr>\n",
       "    <tr>\n",
       "      <td>10</td>\n",
       "      <td>Carolina Hurricanes</td>\n",
       "      <td>47.1</td>\n",
       "      <td>79972980.0</td>\n",
       "      <td>1.70</td>\n",
       "    </tr>\n",
       "    <tr>\n",
       "      <td>0</td>\n",
       "      <td>Boston Bruins</td>\n",
       "      <td>46.4</td>\n",
       "      <td>82569596.0</td>\n",
       "      <td>1.78</td>\n",
       "    </tr>\n",
       "    <tr>\n",
       "      <td>11</td>\n",
       "      <td>Pittsburgh Penguins</td>\n",
       "      <td>45.6</td>\n",
       "      <td>81154248.0</td>\n",
       "      <td>1.78</td>\n",
       "    </tr>\n",
       "    <tr>\n",
       "      <td>19</td>\n",
       "      <td>Winnipeg Jets</td>\n",
       "      <td>42.9</td>\n",
       "      <td>76906546.0</td>\n",
       "      <td>1.79</td>\n",
       "    </tr>\n",
       "    <tr>\n",
       "      <td>17</td>\n",
       "      <td>St. Louis Blues</td>\n",
       "      <td>46.3</td>\n",
       "      <td>83095234.0</td>\n",
       "      <td>1.79</td>\n",
       "    </tr>\n",
       "    <tr>\n",
       "      <td>1</td>\n",
       "      <td>Tampa Bay Lightning</td>\n",
       "      <td>43.3</td>\n",
       "      <td>79253716.0</td>\n",
       "      <td>1.83</td>\n",
       "    </tr>\n",
       "    <tr>\n",
       "      <td>18</td>\n",
       "      <td>Dallas Stars</td>\n",
       "      <td>44.2</td>\n",
       "      <td>81825021.0</td>\n",
       "      <td>1.85</td>\n",
       "    </tr>\n",
       "    <tr>\n",
       "      <td>3</td>\n",
       "      <td>Montreal Canadiens</td>\n",
       "      <td>40.5</td>\n",
       "      <td>77290175.0</td>\n",
       "      <td>1.91</td>\n",
       "    </tr>\n",
       "    <tr>\n",
       "      <td>12</td>\n",
       "      <td>Philadelphia Flyers</td>\n",
       "      <td>43.2</td>\n",
       "      <td>83503260.0</td>\n",
       "      <td>1.93</td>\n",
       "    </tr>\n",
       "    <tr>\n",
       "      <td>13</td>\n",
       "      <td>New York Rangers</td>\n",
       "      <td>40.2</td>\n",
       "      <td>78167775.0</td>\n",
       "      <td>1.94</td>\n",
       "    </tr>\n",
       "    <tr>\n",
       "      <td>2</td>\n",
       "      <td>Florida Panthers</td>\n",
       "      <td>41.7</td>\n",
       "      <td>80982506.0</td>\n",
       "      <td>1.94</td>\n",
       "    </tr>\n",
       "    <tr>\n",
       "      <td>20</td>\n",
       "      <td>Nashville Predators</td>\n",
       "      <td>39.8</td>\n",
       "      <td>78494271.0</td>\n",
       "      <td>1.97</td>\n",
       "    </tr>\n",
       "    <tr>\n",
       "      <td>23</td>\n",
       "      <td>Arizona Coyotes</td>\n",
       "      <td>43.1</td>\n",
       "      <td>85064336.0</td>\n",
       "      <td>1.97</td>\n",
       "    </tr>\n",
       "    <tr>\n",
       "      <td>25</td>\n",
       "      <td>Edmonton Oilers</td>\n",
       "      <td>41.1</td>\n",
       "      <td>80861524.0</td>\n",
       "      <td>1.97</td>\n",
       "    </tr>\n",
       "    <tr>\n",
       "      <td>24</td>\n",
       "      <td>Vegas Golden Knights</td>\n",
       "      <td>41.1</td>\n",
       "      <td>81570555.0</td>\n",
       "      <td>1.98</td>\n",
       "    </tr>\n",
       "    <tr>\n",
       "      <td>21</td>\n",
       "      <td>Minnesota Wild</td>\n",
       "      <td>40.3</td>\n",
       "      <td>79678186.0</td>\n",
       "      <td>1.98</td>\n",
       "    </tr>\n",
       "    <tr>\n",
       "      <td>14</td>\n",
       "      <td>Columbus Blue Jackets</td>\n",
       "      <td>37.6</td>\n",
       "      <td>74798101.0</td>\n",
       "      <td>1.99</td>\n",
       "    </tr>\n",
       "    <tr>\n",
       "      <td>26</td>\n",
       "      <td>Calgary Flames</td>\n",
       "      <td>40.0</td>\n",
       "      <td>82012291.0</td>\n",
       "      <td>2.05</td>\n",
       "    </tr>\n",
       "    <tr>\n",
       "      <td>6</td>\n",
       "      <td>Ottawa Senators</td>\n",
       "      <td>36.8</td>\n",
       "      <td>75730715.0</td>\n",
       "      <td>2.06</td>\n",
       "    </tr>\n",
       "    <tr>\n",
       "      <td>27</td>\n",
       "      <td>Vancouver Canucks</td>\n",
       "      <td>40.1</td>\n",
       "      <td>83315460.0</td>\n",
       "      <td>2.08</td>\n",
       "    </tr>\n",
       "    <tr>\n",
       "      <td>5</td>\n",
       "      <td>Buffalo Sabres</td>\n",
       "      <td>39.0</td>\n",
       "      <td>83946056.0</td>\n",
       "      <td>2.15</td>\n",
       "    </tr>\n",
       "    <tr>\n",
       "      <td>29</td>\n",
       "      <td>Los Angeles Kings</td>\n",
       "      <td>35.3</td>\n",
       "      <td>76707496.0</td>\n",
       "      <td>2.17</td>\n",
       "    </tr>\n",
       "    <tr>\n",
       "      <td>28</td>\n",
       "      <td>Anaheim Ducks</td>\n",
       "      <td>36.1</td>\n",
       "      <td>78927337.0</td>\n",
       "      <td>2.19</td>\n",
       "    </tr>\n",
       "    <tr>\n",
       "      <td>30</td>\n",
       "      <td>San Jose Sharks</td>\n",
       "      <td>36.3</td>\n",
       "      <td>81273913.0</td>\n",
       "      <td>2.24</td>\n",
       "    </tr>\n",
       "    <tr>\n",
       "      <td>4</td>\n",
       "      <td>Toronto Maple Leafs</td>\n",
       "      <td>41.4</td>\n",
       "      <td>94333187.0</td>\n",
       "      <td>2.28</td>\n",
       "    </tr>\n",
       "    <tr>\n",
       "      <td>22</td>\n",
       "      <td>Chicago Blackhawks</td>\n",
       "      <td>36.2</td>\n",
       "      <td>82479656.0</td>\n",
       "      <td>2.28</td>\n",
       "    </tr>\n",
       "    <tr>\n",
       "      <td>15</td>\n",
       "      <td>New Jersey Devils</td>\n",
       "      <td>31.8</td>\n",
       "      <td>75997114.0</td>\n",
       "      <td>2.39</td>\n",
       "    </tr>\n",
       "    <tr>\n",
       "      <td>7</td>\n",
       "      <td>Detroit Red Wings</td>\n",
       "      <td>25.6</td>\n",
       "      <td>80176672.0</td>\n",
       "      <td>3.13</td>\n",
       "    </tr>\n",
       "  </tbody>\n",
       "</table>\n",
       "</div>"
      ],
      "text/plain": [
       "                     Team     W       spend   mpw\n",
       "9      New York Islanders  49.2  75499829.0  1.53\n",
       "16     Colorado Avalanche  48.7  75122369.0  1.54\n",
       "8     Washington Capitals  50.0  81007358.0  1.62\n",
       "10    Carolina Hurricanes  47.1  79972980.0  1.70\n",
       "0           Boston Bruins  46.4  82569596.0  1.78\n",
       "11    Pittsburgh Penguins  45.6  81154248.0  1.78\n",
       "19          Winnipeg Jets  42.9  76906546.0  1.79\n",
       "17        St. Louis Blues  46.3  83095234.0  1.79\n",
       "1     Tampa Bay Lightning  43.3  79253716.0  1.83\n",
       "18           Dallas Stars  44.2  81825021.0  1.85\n",
       "3      Montreal Canadiens  40.5  77290175.0  1.91\n",
       "12    Philadelphia Flyers  43.2  83503260.0  1.93\n",
       "13       New York Rangers  40.2  78167775.0  1.94\n",
       "2        Florida Panthers  41.7  80982506.0  1.94\n",
       "20    Nashville Predators  39.8  78494271.0  1.97\n",
       "23        Arizona Coyotes  43.1  85064336.0  1.97\n",
       "25        Edmonton Oilers  41.1  80861524.0  1.97\n",
       "24   Vegas Golden Knights  41.1  81570555.0  1.98\n",
       "21         Minnesota Wild  40.3  79678186.0  1.98\n",
       "14  Columbus Blue Jackets  37.6  74798101.0  1.99\n",
       "26         Calgary Flames  40.0  82012291.0  2.05\n",
       "6         Ottawa Senators  36.8  75730715.0  2.06\n",
       "27      Vancouver Canucks  40.1  83315460.0  2.08\n",
       "5          Buffalo Sabres  39.0  83946056.0  2.15\n",
       "29      Los Angeles Kings  35.3  76707496.0  2.17\n",
       "28          Anaheim Ducks  36.1  78927337.0  2.19\n",
       "30        San Jose Sharks  36.3  81273913.0  2.24\n",
       "4     Toronto Maple Leafs  41.4  94333187.0  2.28\n",
       "22     Chicago Blackhawks  36.2  82479656.0  2.28\n",
       "15      New Jersey Devils  31.8  75997114.0  2.39\n",
       "7       Detroit Red Wings  25.6  80176672.0  3.13"
      ]
     },
     "execution_count": 17,
     "metadata": {},
     "output_type": "execute_result"
    }
   ],
   "source": [
    "cap_hits = pd.DataFrame(cap_hits, columns=['Team', 'spend'])\n",
    "df = pd.merge(wins, cap_hits, on='Team', how='left')\n",
    "df['mpw'] = round(df['spend'] / df['W'] / 1_000_000, 2)\n",
    "df.sort_values('mpw', ascending=True)"
   ]
  },
  {
   "cell_type": "code",
   "execution_count": 18,
   "metadata": {},
   "outputs": [
    {
     "data": {
      "text/html": [
       "<img src=\"https://media.giphy.com/media/oOX5qIDkzDjeo/giphy.gif\">"
      ],
      "text/plain": [
       "<IPython.core.display.HTML object>"
      ]
     },
     "execution_count": 18,
     "metadata": {},
     "output_type": "execute_result"
    }
   ],
   "source": [
    "from IPython.display import HTML\n",
    "HTML('<img src=\"https://media.giphy.com/media/oOX5qIDkzDjeo/giphy.gif\">')"
   ]
  },
  {
   "cell_type": "markdown",
   "metadata": {},
   "source": [
    "### Saving results"
   ]
  },
  {
   "cell_type": "code",
   "execution_count": 19,
   "metadata": {},
   "outputs": [],
   "source": [
    "df.to_csv('data/mpw.csv', index=False)"
   ]
  },
  {
   "cell_type": "code",
   "execution_count": 20,
   "metadata": {},
   "outputs": [
    {
     "data": {
      "text/html": [
       "<div>\n",
       "<style scoped>\n",
       "    .dataframe tbody tr th:only-of-type {\n",
       "        vertical-align: middle;\n",
       "    }\n",
       "\n",
       "    .dataframe tbody tr th {\n",
       "        vertical-align: top;\n",
       "    }\n",
       "\n",
       "    .dataframe thead th {\n",
       "        text-align: right;\n",
       "    }\n",
       "</style>\n",
       "<table border=\"1\" class=\"dataframe\">\n",
       "  <thead>\n",
       "    <tr style=\"text-align: right;\">\n",
       "      <th></th>\n",
       "      <th>Team</th>\n",
       "      <th>W</th>\n",
       "      <th>spend</th>\n",
       "      <th>mpw</th>\n",
       "    </tr>\n",
       "  </thead>\n",
       "  <tbody>\n",
       "    <tr>\n",
       "      <td>0</td>\n",
       "      <td>Boston Bruins</td>\n",
       "      <td>46.4</td>\n",
       "      <td>82569596.0</td>\n",
       "      <td>1.78</td>\n",
       "    </tr>\n",
       "    <tr>\n",
       "      <td>1</td>\n",
       "      <td>Tampa Bay Lightning</td>\n",
       "      <td>43.3</td>\n",
       "      <td>79253716.0</td>\n",
       "      <td>1.83</td>\n",
       "    </tr>\n",
       "    <tr>\n",
       "      <td>2</td>\n",
       "      <td>Florida Panthers</td>\n",
       "      <td>41.7</td>\n",
       "      <td>80982506.0</td>\n",
       "      <td>1.94</td>\n",
       "    </tr>\n",
       "    <tr>\n",
       "      <td>3</td>\n",
       "      <td>Montreal Canadiens</td>\n",
       "      <td>40.5</td>\n",
       "      <td>77290175.0</td>\n",
       "      <td>1.91</td>\n",
       "    </tr>\n",
       "    <tr>\n",
       "      <td>4</td>\n",
       "      <td>Toronto Maple Leafs</td>\n",
       "      <td>41.4</td>\n",
       "      <td>94333187.0</td>\n",
       "      <td>2.28</td>\n",
       "    </tr>\n",
       "  </tbody>\n",
       "</table>\n",
       "</div>"
      ],
      "text/plain": [
       "                  Team     W       spend   mpw\n",
       "0        Boston Bruins  46.4  82569596.0  1.78\n",
       "1  Tampa Bay Lightning  43.3  79253716.0  1.83\n",
       "2     Florida Panthers  41.7  80982506.0  1.94\n",
       "3   Montreal Canadiens  40.5  77290175.0  1.91\n",
       "4  Toronto Maple Leafs  41.4  94333187.0  2.28"
      ]
     },
     "execution_count": 20,
     "metadata": {},
     "output_type": "execute_result"
    }
   ],
   "source": [
    "df.head()"
   ]
  },
  {
   "cell_type": "code",
   "execution_count": 21,
   "metadata": {},
   "outputs": [],
   "source": [
    "df['date_fetched'] = pd.Timestamp('today')"
   ]
  },
  {
   "cell_type": "code",
   "execution_count": 22,
   "metadata": {},
   "outputs": [
    {
     "data": {
      "text/html": [
       "<div>\n",
       "<style scoped>\n",
       "    .dataframe tbody tr th:only-of-type {\n",
       "        vertical-align: middle;\n",
       "    }\n",
       "\n",
       "    .dataframe tbody tr th {\n",
       "        vertical-align: top;\n",
       "    }\n",
       "\n",
       "    .dataframe thead th {\n",
       "        text-align: right;\n",
       "    }\n",
       "</style>\n",
       "<table border=\"1\" class=\"dataframe\">\n",
       "  <thead>\n",
       "    <tr style=\"text-align: right;\">\n",
       "      <th></th>\n",
       "      <th>Team</th>\n",
       "      <th>W</th>\n",
       "      <th>spend</th>\n",
       "      <th>mpw</th>\n",
       "      <th>date_fetched</th>\n",
       "    </tr>\n",
       "  </thead>\n",
       "  <tbody>\n",
       "    <tr>\n",
       "      <td>0</td>\n",
       "      <td>Boston Bruins</td>\n",
       "      <td>46.4</td>\n",
       "      <td>82569596.0</td>\n",
       "      <td>1.78</td>\n",
       "      <td>2019-12-20 14:48:02.649158</td>\n",
       "    </tr>\n",
       "    <tr>\n",
       "      <td>1</td>\n",
       "      <td>Tampa Bay Lightning</td>\n",
       "      <td>43.3</td>\n",
       "      <td>79253716.0</td>\n",
       "      <td>1.83</td>\n",
       "      <td>2019-12-20 14:48:02.649158</td>\n",
       "    </tr>\n",
       "    <tr>\n",
       "      <td>2</td>\n",
       "      <td>Florida Panthers</td>\n",
       "      <td>41.7</td>\n",
       "      <td>80982506.0</td>\n",
       "      <td>1.94</td>\n",
       "      <td>2019-12-20 14:48:02.649158</td>\n",
       "    </tr>\n",
       "    <tr>\n",
       "      <td>3</td>\n",
       "      <td>Montreal Canadiens</td>\n",
       "      <td>40.5</td>\n",
       "      <td>77290175.0</td>\n",
       "      <td>1.91</td>\n",
       "      <td>2019-12-20 14:48:02.649158</td>\n",
       "    </tr>\n",
       "    <tr>\n",
       "      <td>4</td>\n",
       "      <td>Toronto Maple Leafs</td>\n",
       "      <td>41.4</td>\n",
       "      <td>94333187.0</td>\n",
       "      <td>2.28</td>\n",
       "      <td>2019-12-20 14:48:02.649158</td>\n",
       "    </tr>\n",
       "  </tbody>\n",
       "</table>\n",
       "</div>"
      ],
      "text/plain": [
       "                  Team     W       spend   mpw               date_fetched\n",
       "0        Boston Bruins  46.4  82569596.0  1.78 2019-12-20 14:48:02.649158\n",
       "1  Tampa Bay Lightning  43.3  79253716.0  1.83 2019-12-20 14:48:02.649158\n",
       "2     Florida Panthers  41.7  80982506.0  1.94 2019-12-20 14:48:02.649158\n",
       "3   Montreal Canadiens  40.5  77290175.0  1.91 2019-12-20 14:48:02.649158\n",
       "4  Toronto Maple Leafs  41.4  94333187.0  2.28 2019-12-20 14:48:02.649158"
      ]
     },
     "execution_count": 22,
     "metadata": {},
     "output_type": "execute_result"
    }
   ],
   "source": [
    "df.head()"
   ]
  },
  {
   "cell_type": "code",
   "execution_count": 23,
   "metadata": {},
   "outputs": [],
   "source": [
    "import sqlite3\n",
    "\n",
    "con = sqlite3.connect('data/mpw.db')\n",
    "\n",
    "df.to_sql('teams', con, index=False, if_exists='append')"
   ]
  },
  {
   "cell_type": "code",
   "execution_count": 24,
   "metadata": {},
   "outputs": [
    {
     "data": {
      "text/html": [
       "<div>\n",
       "<style scoped>\n",
       "    .dataframe tbody tr th:only-of-type {\n",
       "        vertical-align: middle;\n",
       "    }\n",
       "\n",
       "    .dataframe tbody tr th {\n",
       "        vertical-align: top;\n",
       "    }\n",
       "\n",
       "    .dataframe thead th {\n",
       "        text-align: right;\n",
       "    }\n",
       "</style>\n",
       "<table border=\"1\" class=\"dataframe\">\n",
       "  <thead>\n",
       "    <tr style=\"text-align: right;\">\n",
       "      <th></th>\n",
       "      <th>Team</th>\n",
       "      <th>W</th>\n",
       "      <th>spend</th>\n",
       "      <th>mpw</th>\n",
       "      <th>date_fetched</th>\n",
       "    </tr>\n",
       "  </thead>\n",
       "  <tbody>\n",
       "    <tr>\n",
       "      <td>0</td>\n",
       "      <td>Detroit Red Wings</td>\n",
       "      <td>25.6</td>\n",
       "      <td>80176672.0</td>\n",
       "      <td>3.13</td>\n",
       "      <td>2019-12-20 14:48:02.649158</td>\n",
       "    </tr>\n",
       "    <tr>\n",
       "      <td>1</td>\n",
       "      <td>New Jersey Devils</td>\n",
       "      <td>31.8</td>\n",
       "      <td>75997114.0</td>\n",
       "      <td>2.39</td>\n",
       "      <td>2019-12-20 14:48:02.649158</td>\n",
       "    </tr>\n",
       "    <tr>\n",
       "      <td>2</td>\n",
       "      <td>Chicago Blackhawks</td>\n",
       "      <td>36.2</td>\n",
       "      <td>82479656.0</td>\n",
       "      <td>2.28</td>\n",
       "      <td>2019-12-20 14:48:02.649158</td>\n",
       "    </tr>\n",
       "    <tr>\n",
       "      <td>3</td>\n",
       "      <td>San Jose Sharks</td>\n",
       "      <td>36.3</td>\n",
       "      <td>81273913.0</td>\n",
       "      <td>2.24</td>\n",
       "      <td>2019-12-20 14:48:02.649158</td>\n",
       "    </tr>\n",
       "    <tr>\n",
       "      <td>4</td>\n",
       "      <td>Anaheim Ducks</td>\n",
       "      <td>36.1</td>\n",
       "      <td>78927337.0</td>\n",
       "      <td>2.19</td>\n",
       "      <td>2019-12-20 14:48:02.649158</td>\n",
       "    </tr>\n",
       "    <tr>\n",
       "      <td>5</td>\n",
       "      <td>Los Angeles Kings</td>\n",
       "      <td>35.3</td>\n",
       "      <td>76707496.0</td>\n",
       "      <td>2.17</td>\n",
       "      <td>2019-12-20 14:48:02.649158</td>\n",
       "    </tr>\n",
       "    <tr>\n",
       "      <td>6</td>\n",
       "      <td>Buffalo Sabres</td>\n",
       "      <td>39.0</td>\n",
       "      <td>83946056.0</td>\n",
       "      <td>2.15</td>\n",
       "      <td>2019-12-20 14:48:02.649158</td>\n",
       "    </tr>\n",
       "    <tr>\n",
       "      <td>7</td>\n",
       "      <td>Vancouver Canucks</td>\n",
       "      <td>40.1</td>\n",
       "      <td>83315460.0</td>\n",
       "      <td>2.08</td>\n",
       "      <td>2019-12-20 14:48:02.649158</td>\n",
       "    </tr>\n",
       "    <tr>\n",
       "      <td>8</td>\n",
       "      <td>Ottawa Senators</td>\n",
       "      <td>36.8</td>\n",
       "      <td>75730715.0</td>\n",
       "      <td>2.06</td>\n",
       "      <td>2019-12-20 14:48:02.649158</td>\n",
       "    </tr>\n",
       "    <tr>\n",
       "      <td>9</td>\n",
       "      <td>Calgary Flames</td>\n",
       "      <td>40.0</td>\n",
       "      <td>82012291.0</td>\n",
       "      <td>2.05</td>\n",
       "      <td>2019-12-20 14:48:02.649158</td>\n",
       "    </tr>\n",
       "  </tbody>\n",
       "</table>\n",
       "</div>"
      ],
      "text/plain": [
       "                 Team     W       spend   mpw                date_fetched\n",
       "0   Detroit Red Wings  25.6  80176672.0  3.13  2019-12-20 14:48:02.649158\n",
       "1   New Jersey Devils  31.8  75997114.0  2.39  2019-12-20 14:48:02.649158\n",
       "2  Chicago Blackhawks  36.2  82479656.0  2.28  2019-12-20 14:48:02.649158\n",
       "3     San Jose Sharks  36.3  81273913.0  2.24  2019-12-20 14:48:02.649158\n",
       "4       Anaheim Ducks  36.1  78927337.0  2.19  2019-12-20 14:48:02.649158\n",
       "5   Los Angeles Kings  35.3  76707496.0  2.17  2019-12-20 14:48:02.649158\n",
       "6      Buffalo Sabres  39.0  83946056.0  2.15  2019-12-20 14:48:02.649158\n",
       "7   Vancouver Canucks  40.1  83315460.0  2.08  2019-12-20 14:48:02.649158\n",
       "8     Ottawa Senators  36.8  75730715.0  2.06  2019-12-20 14:48:02.649158\n",
       "9      Calgary Flames  40.0  82012291.0  2.05  2019-12-20 14:48:02.649158"
      ]
     },
     "execution_count": 24,
     "metadata": {},
     "output_type": "execute_result"
    }
   ],
   "source": [
    "pd.read_sql('''\n",
    "    select \n",
    "    * \n",
    "    from teams \n",
    "    where mpw > 2 and W < 41\n",
    "    order by mpw desc\n",
    "''', con)"
   ]
  }
 ],
 "metadata": {
  "kernelspec": {
   "display_name": "Python 3",
   "language": "python",
   "name": "python3"
  },
  "language_info": {
   "codemirror_mode": {
    "name": "ipython",
    "version": 3
   },
   "file_extension": ".py",
   "mimetype": "text/x-python",
   "name": "python",
   "nbconvert_exporter": "python",
   "pygments_lexer": "ipython3",
   "version": "3.7.4"
  }
 },
 "nbformat": 4,
 "nbformat_minor": 2
}
