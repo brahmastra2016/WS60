{
 "cells": [
  {
   "cell_type": "code",
   "execution_count": 1,
   "metadata": {},
   "outputs": [],
   "source": [
    "# !pip install urbandict\n",
    "# https://github.com/novel/py-urbandict"
   ]
  },
  {
   "cell_type": "code",
   "execution_count": 9,
   "metadata": {},
   "outputs": [
    {
     "data": {
      "text/plain": [
       "[{'word': 'zoinks',\n",
       "  'def': 'An exclamative. Made popular by the character Shaggy',\n",
       "  'example': '\"Zoinks',\n",
       "  'category': 'unknown'},\n",
       " {'word': 'zoinks',\n",
       "  'def': 'Exclamation',\n",
       "  'example': 'Shaggy: \"Zoinks',\n",
       "  'category': 'unknown'},\n",
       " {'word': 'Zoinks',\n",
       "  'def': 'What Shaggy says when Scooby',\n",
       "  'example': 'Oh',\n",
       "  'category': 'unknown'}]"
      ]
     },
     "execution_count": 9,
     "metadata": {},
     "output_type": "execute_result"
    }
   ],
   "source": [
    "import urbandict\n",
    "\n",
    "urbandict.define('zoinks')[:3]"
   ]
  },
  {
   "cell_type": "code",
   "execution_count": 3,
   "metadata": {},
   "outputs": [],
   "source": [
    "# https://github.com/martin-majlis/Wikipedia-API/\n",
    "# !pip install wikipedia-api"
   ]
  },
  {
   "cell_type": "code",
   "execution_count": 4,
   "metadata": {},
   "outputs": [],
   "source": [
    "from wikipediaapi import Wikipedia\n",
    "wiki = Wikipedia('en')"
   ]
  },
  {
   "cell_type": "code",
   "execution_count": 5,
   "metadata": {},
   "outputs": [
    {
     "data": {
      "text/plain": [
       "True"
      ]
     },
     "execution_count": 5,
     "metadata": {},
     "output_type": "execute_result"
    }
   ],
   "source": [
    "page = wiki.page('Python_(programming_language)')\n",
    "page.exists()"
   ]
  },
  {
   "cell_type": "code",
   "execution_count": 6,
   "metadata": {},
   "outputs": [
    {
     "data": {
      "text/plain": [
       "\"Python is an interpreted, high-level, general-purpose programming language. Created by Guido van Rossum and first released in 1991, Python's design philosophy emphasizes code readability with its notable use of significant whitespace. Its language constructs and object-oriented approach aim to help programmers write clear, logical code for small and large-scale projects.Python is dynamically typed and garbage-collected. It supports multiple programming paradigms, including procedural, object-ori\""
      ]
     },
     "execution_count": 6,
     "metadata": {},
     "output_type": "execute_result"
    }
   ],
   "source": [
    "page.text[:500]"
   ]
  },
  {
   "cell_type": "code",
   "execution_count": 7,
   "metadata": {},
   "outputs": [],
   "source": [
    "# !pip install quote"
   ]
  },
  {
   "cell_type": "code",
   "execution_count": 8,
   "metadata": {},
   "outputs": [
    {
     "data": {
      "text/plain": [
       "[{'author': 'William Shakespeare',\n",
       "  'book': 'As You Like It',\n",
       "  'quote': 'The fool doth think he is wise, but the wise man knows himself to be a fool.'},\n",
       " {'author': 'William Shakespeare',\n",
       "  'book': \"All's Well That Ends Well\",\n",
       "  'quote': 'Love all, trust a few, do wrong to none.'},\n",
       " {'author': 'William Shakespeare',\n",
       "  'book': 'Twelfth Night',\n",
       "  'quote': 'Be not afraid of greatness. Some are born great, some achieve greatness, and others have greatness thrust upon them.'},\n",
       " {'author': 'William Shakespeare',\n",
       "  'book': 'Julius Caesar',\n",
       "  'quote': 'The fault, dear Brutus, is not in our stars, but in ourselves.'},\n",
       " {'author': 'William Shakespear',\n",
       "  'book': 'Hamlet',\n",
       "  'quote': 'There is nothing either good or bad, but thinking makes it so.'}]"
      ]
     },
     "execution_count": 8,
     "metadata": {},
     "output_type": "execute_result"
    }
   ],
   "source": [
    "from quote import quote \n",
    "\n",
    "quote('shakespeare', limit=5)"
   ]
  }
 ],
 "metadata": {
  "kernelspec": {
   "display_name": "Python 3",
   "language": "python",
   "name": "python3"
  },
  "language_info": {
   "codemirror_mode": {
    "name": "ipython",
    "version": 3
   },
   "file_extension": ".py",
   "mimetype": "text/x-python",
   "name": "python",
   "nbconvert_exporter": "python",
   "pygments_lexer": "ipython3",
   "version": "3.7.4"
  }
 },
 "nbformat": 4,
 "nbformat_minor": 2
}
